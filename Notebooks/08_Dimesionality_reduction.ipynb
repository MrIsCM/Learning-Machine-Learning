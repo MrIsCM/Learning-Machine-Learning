{
 "cells": [
  {
   "cell_type": "markdown",
   "metadata": {},
   "source": [
    "# Chapter 8: Dimesionality Reduction"
   ]
  },
  {
   "cell_type": "markdown",
   "metadata": {},
   "source": [
    "## The Curse of Dimensionality"
   ]
  },
  {
   "cell_type": "markdown",
   "metadata": {},
   "source": [
    "More dimensions lead to some counter-intuitive effects. \n",
    "\n",
    "A simple example: \n",
    "- Average distance between two points in a unit square: ~0.52\n",
    "- Average distance between two points in a unit cube: ~0.66\n",
    "- Average distance between two points in a unit 5D hypercube: ~0.8\n",
    "- Average distance between two points in a unit 1,000,000D hypercube: ~408.25\n",
    "\n",
    "High dimensional datasets risk being sparse. Instances are further apart from each other, making predictions less reliable."
   ]
  },
  {
   "cell_type": "markdown",
   "metadata": {},
   "source": [
    "## Main Approaches for Dimensionality Reduction"
   ]
  },
  {
   "cell_type": "markdown",
   "metadata": {},
   "source": [
    "### Projection"
   ]
  },
  {
   "cell_type": "markdown",
   "metadata": {},
   "source": [
    "![Projection](Images/Ch08-Dimensionality_Reduction-Projection.png)"
   ]
  },
  {
   "cell_type": "markdown",
   "metadata": {},
   "source": [
    "### Manifold Learning"
   ]
  },
  {
   "cell_type": "markdown",
   "metadata": {},
   "source": [
    "![Manifold](Images/Ch08-Dimensionality_Reduction-Manifold.png)"
   ]
  },
  {
   "cell_type": "markdown",
   "metadata": {},
   "source": [
    "## PCA"
   ]
  }
 ],
 "metadata": {
  "language_info": {
   "name": "python"
  }
 },
 "nbformat": 4,
 "nbformat_minor": 2
}
