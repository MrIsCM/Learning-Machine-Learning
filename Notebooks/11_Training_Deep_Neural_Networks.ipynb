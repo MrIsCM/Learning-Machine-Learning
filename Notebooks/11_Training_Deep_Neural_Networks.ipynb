{
 "cells": [
  {
   "cell_type": "markdown",
   "id": "6696861c",
   "metadata": {},
   "source": [
    "# Chapter 11"
   ]
  }
 ],
 "metadata": {
  "language_info": {
   "name": "python"
  }
 },
 "nbformat": 4,
 "nbformat_minor": 5
}
