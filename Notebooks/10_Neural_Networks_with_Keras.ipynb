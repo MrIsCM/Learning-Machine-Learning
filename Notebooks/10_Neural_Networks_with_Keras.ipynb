{
 "cells": [
  {
   "cell_type": "code",
   "execution_count": 2,
   "id": "a9dd41d0",
   "metadata": {},
   "outputs": [],
   "source": [
    "import sklearn\n",
    "import tensorflow as tf"
   ]
  },
  {
   "cell_type": "code",
   "execution_count": 3,
   "id": "9ef1ddf7",
   "metadata": {},
   "outputs": [
    {
     "name": "stdout",
     "output_type": "stream",
     "text": [
      "Sklearn version: 1.3.2\n",
      "TensorFlow version: 2.14.1\n"
     ]
    }
   ],
   "source": [
    "print(\"Sklearn version:\", sklearn.__version__)\n",
    "print(\"TensorFlow version:\", tf.__version__)"
   ]
  },
  {
   "cell_type": "code",
   "execution_count": 4,
   "id": "80686a08",
   "metadata": {},
   "outputs": [],
   "source": [
    "import matplotlib.pyplot as plt\n",
    "\n",
    "plt.rc('font', size=14)\n",
    "plt.rc('axes', labelsize=14, titlesize=14)\n",
    "plt.rc('legend', fontsize=14)\n",
    "plt.rc('xtick', labelsize=10)\n",
    "plt.rc('ytick', labelsize=10)"
   ]
  },
  {
   "cell_type": "markdown",
   "id": "8e97cb27",
   "metadata": {},
   "source": [
    "# Perceptron"
   ]
  },
  {
   "cell_type": "code",
   "execution_count": 4,
   "id": "c9830cc5",
   "metadata": {},
   "outputs": [
    {
     "data": {
      "text/plain": [
       "array([ True, False])"
      ]
     },
     "execution_count": 4,
     "metadata": {},
     "output_type": "execute_result"
    }
   ],
   "source": [
    "# Simple example using the perceptron class from sklearn\n",
    "\n",
    "import numpy as np\n",
    "from sklearn.datasets import load_iris\n",
    "from sklearn.linear_model import Perceptron\n",
    "\n",
    "iris = load_iris(as_frame=True)\n",
    "X = iris.data[[\"petal length (cm)\", \"petal width (cm)\"]].values\n",
    "y = (iris.target == 0) # Iris Setosa\n",
    "\n",
    "perceptron_clf = Perceptron(random_state=42)\n",
    "perceptron_clf.fit(X, y)\n",
    "\n",
    "X_new = np.array([[1.5, 0.2], [5.5, 1.8]])\n",
    "y_pred = perceptron_clf.predict(X_new)\n",
    "y_pred"
   ]
  },
  {
   "cell_type": "markdown",
   "id": "65a34979",
   "metadata": {},
   "source": [
    "# Regression MLPs"
   ]
  },
  {
   "cell_type": "code",
   "execution_count": 12,
   "id": "5393115f",
   "metadata": {},
   "outputs": [],
   "source": [
    "# Simple example of regression using an MLP on California Housing Data\n",
    "\n",
    "from sklearn.datasets import fetch_california_housing\n",
    "from sklearn.metrics import mean_squared_error\n",
    "from sklearn.model_selection import train_test_split\n",
    "from sklearn.neural_network import MLPRegressor\n",
    "from sklearn.pipeline import make_pipeline\n",
    "from sklearn.preprocessing import StandardScaler"
   ]
  },
  {
   "cell_type": "code",
   "execution_count": 9,
   "id": "67c10091",
   "metadata": {},
   "outputs": [],
   "source": [
    "# Load data\n",
    "housing = fetch_california_housing()\n",
    "\n",
    "\n",
    "# Split in train, test and val (2 splits)\n",
    "X_train_val, X_test, y_train_val, y_test = train_test_split(\n",
    "    housing.data, housing.target, random_state=42\n",
    ")\n",
    "\n",
    "X_train, X_val, y_train, y_val = train_test_split(\n",
    "    X_train_val, y_train_val, random_state=42\n",
    ")\n",
    "\n",
    "# Model\n",
    "mlp_reg = MLPRegressor(\n",
    "    hidden_layer_sizes=[50, 50, 50],\n",
    "    random_state=42\n",
    ")"
   ]
  },
  {
   "cell_type": "code",
   "execution_count": 13,
   "id": "6c89bc14",
   "metadata": {},
   "outputs": [],
   "source": [
    "# Pipeline\n",
    "pipeline = make_pipeline(\n",
    "    StandardScaler(),\n",
    "    mlp_reg\n",
    ")\n",
    "\n",
    "pipeline.fit(X_train, y_train)\n",
    "y_pred = pipeline.predict(X_val)\n",
    "rmse = mean_squared_error(y_val, y_pred, squared=False)"
   ]
  },
  {
   "cell_type": "code",
   "execution_count": 14,
   "id": "179ec121",
   "metadata": {},
   "outputs": [
    {
     "data": {
      "text/plain": [
       "0.5053326657968626"
      ]
     },
     "execution_count": 14,
     "metadata": {},
     "output_type": "execute_result"
    }
   ],
   "source": [
    "rmse"
   ]
  },
  {
   "cell_type": "markdown",
   "id": "2aba1b0e",
   "metadata": {},
   "source": [
    "# Classification MLPs"
   ]
  },
  {
   "cell_type": "markdown",
   "id": "8c7f1512",
   "metadata": {},
   "source": [
    "# MLPs with Keras"
   ]
  },
  {
   "cell_type": "markdown",
   "id": "7f70868f",
   "metadata": {},
   "source": [
    "## Image Classifier Using the Sequential API"
   ]
  },
  {
   "cell_type": "code",
   "execution_count": 15,
   "id": "c16c5959",
   "metadata": {},
   "outputs": [
    {
     "name": "stdout",
     "output_type": "stream",
     "text": [
      "Downloading data from https://storage.googleapis.com/tensorflow/tf-keras-datasets/train-labels-idx1-ubyte.gz\n",
      "29515/29515 [==============================] - 0s 1us/step\n",
      "Downloading data from https://storage.googleapis.com/tensorflow/tf-keras-datasets/train-images-idx3-ubyte.gz\n",
      "26421880/26421880 [==============================] - 2s 0us/step\n",
      "Downloading data from https://storage.googleapis.com/tensorflow/tf-keras-datasets/t10k-labels-idx1-ubyte.gz\n",
      "5148/5148 [==============================] - 0s 0s/step\n",
      "Downloading data from https://storage.googleapis.com/tensorflow/tf-keras-datasets/t10k-images-idx3-ubyte.gz\n",
      "4422102/4422102 [==============================] - 0s 0us/step\n"
     ]
    }
   ],
   "source": [
    "# Using Keras and Fashion MNIST dataset\n",
    "\n",
    "import tensorflow as tf\n",
    "\n",
    "fashion_mnist = tf.keras.datasets.fashion_mnist.load_data()\n",
    "(X_train_val, y_train_val), (X_test, y_test) = fashion_mnist\n",
    "val_size = 5000\n",
    "X_train, X_val = X_train_val[:-val_size], X_train_val[-val_size:]\n",
    "y_train, y_val = y_train_val[:-val_size], y_train_val[-val_size:]"
   ]
  },
  {
   "cell_type": "code",
   "execution_count": 26,
   "id": "f7ee0e71",
   "metadata": {},
   "outputs": [
    {
     "data": {
      "text/plain": [
       "((55000, 28, 28), dtype('uint8'))"
      ]
     },
     "execution_count": 26,
     "metadata": {},
     "output_type": "execute_result"
    }
   ],
   "source": [
    "X_train.shape, X_train.dtype"
   ]
  },
  {
   "cell_type": "code",
   "execution_count": 27,
   "id": "7a405943",
   "metadata": {},
   "outputs": [],
   "source": [
    "# 'Normalizing' pixel intensity, [0, 255] -> [0, 1]\n",
    "X_train = X_train / 255.0\n",
    "X_val = X_val / 255.0\n",
    "X_test = X_test / 255.0"
   ]
  },
  {
   "cell_type": "code",
   "execution_count": 32,
   "id": "d187f54f",
   "metadata": {},
   "outputs": [],
   "source": [
    "# Target is the class label ID (0-9)\n",
    "# The corresponding labels are:\n",
    "class_names = [\"T-shirt/top\", \"Trouser\", \"Pullover\", \"Dress\", \"Coat\", \"Sandal\", \"Shirt\", \"Sneaker\", \"Bag\", \"Ankle boot\"]"
   ]
  },
  {
   "cell_type": "code",
   "execution_count": 33,
   "id": "9f569402",
   "metadata": {},
   "outputs": [
    {
     "data": {
      "text/plain": [
       "Text(0.5, 1.0, 'Ankle boot')"
      ]
     },
     "execution_count": 33,
     "metadata": {},
     "output_type": "execute_result"
    },
    {
     "data": {
      "image/png": "[encoded data removed]",
      "text/plain": [
       "<Figure size 640x480 with 1 Axes>"
      ]
     },
     "metadata": {},
     "output_type": "display_data"
    }
   ],
   "source": [
    "# Quick visualization\n",
    "import matplotlib.pyplot as plt\n",
    "\n",
    "idx = 0\n",
    "plt.imshow(X_train[idx], cmap='binary')\n",
    "plt.title(class_names[y_train[idx]])"
   ]
  },
  {
   "cell_type": "markdown",
   "id": "9049855d",
   "metadata": {},
   "source": [
    "### Creating the Model Using the Sequential API "
   ]
  },
  {
   "cell_type": "code",
   "execution_count": 34,
   "id": "549a6108",
   "metadata": {},
   "outputs": [],
   "source": [
    "# random seed for reproducibility\n",
    "tf.random.set_seed(42)\n",
    "model = tf.keras.Sequential()\n",
    "model.add(tf.keras.layers.Input(shape=[28, 28]))\n",
    "model.add(tf.keras.layers.Flatten())\n",
    "model.add(tf.keras.layers.Dense(300, activation='relu'))\n",
    "model.add(tf.keras.layers.Dense(100, activation='relu'))\n",
    "model.add(tf.keras.layers.Dense(10, activation='softmax'))"
   ]
  },
  {
   "cell_type": "code",
   "execution_count": 37,
   "id": "b7280b4d",
   "metadata": {},
   "outputs": [
    {
     "name": "stdout",
     "output_type": "stream",
     "text": [
      "Model: \"sequential\"\n",
      "_________________________________________________________________\n",
      " Layer (type)                Output Shape              Param #   \n",
      "=================================================================\n",
      " flatten (Flatten)           (None, 784)               0         \n",
      "                                                                 \n",
      " dense (Dense)               (None, 300)               235500    \n",
      "                                                                 \n",
      " dense_1 (Dense)             (None, 100)               30100     \n",
      "                                                                 \n",
      " dense_2 (Dense)             (None, 10)                1010      \n",
      "                                                                 \n",
      "=================================================================\n",
      "Total params: 266610 (1.02 MB)\n",
      "Trainable params: 266610 (1.02 MB)\n",
      "Non-trainable params: 0 (0.00 Byte)\n",
      "_________________________________________________________________\n"
     ]
    }
   ],
   "source": [
    "# Model info\n",
    "model.summary()"
   ]
  },
  {
   "cell_type": "code",
   "execution_count": 36,
   "id": "67b4cfc6",
   "metadata": {},
   "outputs": [
    {
     "data": {
      "image/png": "[encoded data removed]",
      "text/plain": [
       "<IPython.core.display.Image object>"
      ]
     },
     "execution_count": 36,
     "metadata": {},
     "output_type": "execute_result"
    }
   ],
   "source": [
    "tf.keras.utils.plot_model(model, show_shapes=True, show_layer_names=True)"
   ]
  },
  {
   "cell_type": "code",
   "execution_count": 38,
   "id": "bf217f6c",
   "metadata": {},
   "outputs": [
    {
     "data": {
      "text/plain": [
       "[<keras.src.layers.reshaping.flatten.Flatten at 0x255adebac50>,\n",
       " <keras.src.layers.core.dense.Dense at 0x255adee9c00>,\n",
       " <keras.src.layers.core.dense.Dense at 0x255adee9ed0>,\n",
       " <keras.src.layers.core.dense.Dense at 0x255adeea020>]"
      ]
     },
     "execution_count": 38,
     "metadata": {},
     "output_type": "execute_result"
    }
   ],
   "source": [
    "model.layers"
   ]
  },
  {
   "cell_type": "code",
   "execution_count": 39,
   "id": "0a621b0c",
   "metadata": {},
   "outputs": [
    {
     "data": {
      "text/plain": [
       "('dense', (None, 784), (None, 300))"
      ]
     },
     "execution_count": 39,
     "metadata": {},
     "output_type": "execute_result"
    }
   ],
   "source": [
    "hidden_layer = model.layers[1]\n",
    "hidden_layer.name, hidden_layer.input_shape, hidden_layer.output_shape"
   ]
  },
  {
   "cell_type": "markdown",
   "id": "7c942e9e",
   "metadata": {},
   "source": [
    "### Compile the Model"
   ]
  },
  {
   "cell_type": "code",
   "execution_count": 42,
   "id": "9a93f839",
   "metadata": {},
   "outputs": [],
   "source": [
    "# Compiling the model to set the loss function, optimizer, and metrics\n",
    "model.compile(\n",
    "    loss='sparse_categorical_crossentropy',\n",
    "    # stochastic gradient descent\n",
    "    optimizer='sgd',\n",
    "    metrics=['accuracy']\n",
    ")"
   ]
  },
  {
   "cell_type": "code",
   "execution_count": 43,
   "id": "44e612a1",
   "metadata": {},
   "outputs": [
    {
     "name": "stdout",
     "output_type": "stream",
     "text": [
      "Epoch 1/30\n",
      "1719/1719 [==============================] - 12s 6ms/step - loss: 0.7186 - accuracy: 0.7623 - val_loss: 0.5014 - val_accuracy: 0.8316\n",
      "Epoch 2/30\n",
      "1719/1719 [==============================] - 9s 5ms/step - loss: 0.4888 - accuracy: 0.8303 - val_loss: 0.4673 - val_accuracy: 0.8326\n",
      "Epoch 3/30\n",
      "1719/1719 [==============================] - 9s 5ms/step - loss: 0.4433 - accuracy: 0.8435 - val_loss: 0.4271 - val_accuracy: 0.8492\n",
      "Epoch 4/30\n",
      "1719/1719 [==============================] - 8s 5ms/step - loss: 0.4191 - accuracy: 0.8524 - val_loss: 0.3991 - val_accuracy: 0.8592\n",
      "Epoch 5/30\n",
      "1719/1719 [==============================] - 9s 5ms/step - loss: 0.3986 - accuracy: 0.8587 - val_loss: 0.3971 - val_accuracy: 0.8596\n",
      "Epoch 6/30\n",
      "1719/1719 [==============================] - 9s 5ms/step - loss: 0.3824 - accuracy: 0.8639 - val_loss: 0.3957 - val_accuracy: 0.8638\n",
      "Epoch 7/30\n",
      "1719/1719 [==============================] - 10s 6ms/step - loss: 0.3704 - accuracy: 0.8686 - val_loss: 0.3774 - val_accuracy: 0.8680\n",
      "Epoch 8/30\n",
      "1719/1719 [==============================] - 9s 5ms/step - loss: 0.3592 - accuracy: 0.8721 - val_loss: 0.3779 - val_accuracy: 0.8618\n",
      "Epoch 9/30\n",
      "1719/1719 [==============================] - 9s 5ms/step - loss: 0.3481 - accuracy: 0.8767 - val_loss: 0.3565 - val_accuracy: 0.8724\n",
      "Epoch 10/30\n",
      "1719/1719 [==============================] - 9s 5ms/step - loss: 0.3385 - accuracy: 0.8792 - val_loss: 0.3554 - val_accuracy: 0.8736\n",
      "Epoch 11/30\n",
      "1719/1719 [==============================] - 10s 6ms/step - loss: 0.3298 - accuracy: 0.8829 - val_loss: 0.3802 - val_accuracy: 0.8632\n",
      "Epoch 12/30\n",
      "1719/1719 [==============================] - 10s 6ms/step - loss: 0.3218 - accuracy: 0.8839 - val_loss: 0.3501 - val_accuracy: 0.8728\n",
      "Epoch 13/30\n",
      "1719/1719 [==============================] - 9s 5ms/step - loss: 0.3146 - accuracy: 0.8879 - val_loss: 0.3341 - val_accuracy: 0.8790\n",
      "Epoch 14/30\n",
      "1719/1719 [==============================] - 9s 5ms/step - loss: 0.3073 - accuracy: 0.8899 - val_loss: 0.3448 - val_accuracy: 0.8774\n",
      "Epoch 15/30\n",
      "1719/1719 [==============================] - 9s 6ms/step - loss: 0.3010 - accuracy: 0.8926 - val_loss: 0.3411 - val_accuracy: 0.8782\n",
      "Epoch 16/30\n",
      "1719/1719 [==============================] - 8s 4ms/step - loss: 0.2940 - accuracy: 0.8944 - val_loss: 0.3346 - val_accuracy: 0.8774\n",
      "Epoch 17/30\n",
      "1719/1719 [==============================] - 8s 5ms/step - loss: 0.2892 - accuracy: 0.8960 - val_loss: 0.3439 - val_accuracy: 0.8722\n",
      "Epoch 18/30\n",
      "1719/1719 [==============================] - 7s 4ms/step - loss: 0.2832 - accuracy: 0.8984 - val_loss: 0.3303 - val_accuracy: 0.8808\n",
      "Epoch 19/30\n",
      "1719/1719 [==============================] - 7s 4ms/step - loss: 0.2779 - accuracy: 0.8996 - val_loss: 0.3604 - val_accuracy: 0.8654\n",
      "Epoch 20/30\n",
      "1719/1719 [==============================] - 7s 4ms/step - loss: 0.2729 - accuracy: 0.9023 - val_loss: 0.3257 - val_accuracy: 0.8812\n",
      "Epoch 21/30\n",
      "1719/1719 [==============================] - 8s 4ms/step - loss: 0.2682 - accuracy: 0.9031 - val_loss: 0.3195 - val_accuracy: 0.8828\n",
      "Epoch 22/30\n",
      "1719/1719 [==============================] - 8s 5ms/step - loss: 0.2630 - accuracy: 0.9046 - val_loss: 0.3200 - val_accuracy: 0.8820\n",
      "Epoch 23/30\n",
      "1719/1719 [==============================] - 8s 4ms/step - loss: 0.2587 - accuracy: 0.9076 - val_loss: 0.3419 - val_accuracy: 0.8728\n",
      "Epoch 24/30\n",
      "1719/1719 [==============================] - 8s 5ms/step - loss: 0.2536 - accuracy: 0.9091 - val_loss: 0.3263 - val_accuracy: 0.8806\n",
      "Epoch 25/30\n",
      "1719/1719 [==============================] - 7s 4ms/step - loss: 0.2493 - accuracy: 0.9111 - val_loss: 0.3223 - val_accuracy: 0.8812\n",
      "Epoch 26/30\n",
      "1719/1719 [==============================] - 8s 4ms/step - loss: 0.2460 - accuracy: 0.9119 - val_loss: 0.3147 - val_accuracy: 0.8864\n",
      "Epoch 27/30\n",
      "1719/1719 [==============================] - 8s 4ms/step - loss: 0.2405 - accuracy: 0.9129 - val_loss: 0.3226 - val_accuracy: 0.8830\n",
      "Epoch 28/30\n",
      "1719/1719 [==============================] - 7s 4ms/step - loss: 0.2373 - accuracy: 0.9157 - val_loss: 0.3172 - val_accuracy: 0.8854\n",
      "Epoch 29/30\n",
      "1719/1719 [==============================] - 7s 4ms/step - loss: 0.2332 - accuracy: 0.9165 - val_loss: 0.3219 - val_accuracy: 0.8846\n",
      "Epoch 30/30\n",
      "1719/1719 [==============================] - 7s 4ms/step - loss: 0.2301 - accuracy: 0.9185 - val_loss: 0.3086 - val_accuracy: 0.8882\n"
     ]
    }
   ],
   "source": [
    "history = model.fit(X_train, y_train, epochs=30, validation_data=(X_val, y_val))"
   ]
  },
  {
   "cell_type": "code",
   "execution_count": 46,
   "id": "64246ae2",
   "metadata": {},
   "outputs": [
    {
     "data": {
      "image/png": "[encoded data removed]",
      "text/plain": [
       "<Figure size 800x500 with 1 Axes>"
      ]
     },
     "metadata": {},
     "output_type": "display_data"
    }
   ],
   "source": [
    "import pandas as pd\n",
    "\n",
    "pd.DataFrame(history.history).plot(figsize=(8, 5), xlim=(0, 29), ylim=(0, 1), grid=True, xlabel='Epochs', style=[\"r--\", \"r--.\", \"b-\", \"b-*\"])\n",
    "plt.show()"
   ]
  },
  {
   "cell_type": "code",
   "execution_count": 47,
   "id": "a7cbfc0d",
   "metadata": {},
   "outputs": [
    {
     "name": "stdout",
     "output_type": "stream",
     "text": [
      "313/313 [==============================] - 1s 4ms/step - loss: 0.3258 - accuracy: 0.8827\n"
     ]
    },
    {
     "data": {
      "text/plain": [
       "[0.32578781247138977, 0.8827000260353088]"
      ]
     },
     "execution_count": 47,
     "metadata": {},
     "output_type": "execute_result"
    }
   ],
   "source": [
    "model.evaluate(X_test, y_test)"
   ]
  },
  {
   "cell_type": "markdown",
   "id": "ea727a38",
   "metadata": {},
   "source": [
    "## Building a Regression MLP Using the Sequential API"
   ]
  },
  {
   "cell_type": "code",
   "execution_count": 48,
   "id": "19fc94e1",
   "metadata": {},
   "outputs": [],
   "source": [
    "housing = fetch_california_housing()\n",
    "X_train_full, X_test, y_train_full, y_test = train_test_split(\n",
    "    housing.data, housing.target, random_state=42)\n",
    "X_train, X_valid, y_train, y_valid = train_test_split(\n",
    "    X_train_full, y_train_full, random_state=42)"
   ]
  },
  {
   "cell_type": "code",
   "execution_count": 49,
   "id": "fb964300",
   "metadata": {},
   "outputs": [
    {
     "name": "stdout",
     "output_type": "stream",
     "text": [
      "Epoch 1/20\n",
      "363/363 [==============================] - 5s 9ms/step - loss: 0.8839 - root_mean_squared_error: 0.9402 - val_loss: 0.4321 - val_root_mean_squared_error: 0.6573\n",
      "Epoch 2/20\n",
      "363/363 [==============================] - 1s 4ms/step - loss: 0.3952 - root_mean_squared_error: 0.6287 - val_loss: 0.9802 - val_root_mean_squared_error: 0.9900\n",
      "Epoch 3/20\n",
      "363/363 [==============================] - 1s 4ms/step - loss: 0.3617 - root_mean_squared_error: 0.6014 - val_loss: 0.3242 - val_root_mean_squared_error: 0.5694\n",
      "Epoch 4/20\n",
      "363/363 [==============================] - 1s 3ms/step - loss: 0.3445 - root_mean_squared_error: 0.5870 - val_loss: 0.6241 - val_root_mean_squared_error: 0.7900\n",
      "Epoch 5/20\n",
      "363/363 [==============================] - 1s 4ms/step - loss: 0.3327 - root_mean_squared_error: 0.5768 - val_loss: 1.0146 - val_root_mean_squared_error: 1.0073\n",
      "Epoch 6/20\n",
      "363/363 [==============================] - 1s 3ms/step - loss: 0.3296 - root_mean_squared_error: 0.5741 - val_loss: 0.5452 - val_root_mean_squared_error: 0.7384\n",
      "Epoch 7/20\n",
      "363/363 [==============================] - 1s 3ms/step - loss: 0.3148 - root_mean_squared_error: 0.5611 - val_loss: 0.4477 - val_root_mean_squared_error: 0.6691\n",
      "Epoch 8/20\n",
      "363/363 [==============================] - 1s 4ms/step - loss: 0.3080 - root_mean_squared_error: 0.5549 - val_loss: 1.8688 - val_root_mean_squared_error: 1.3670\n",
      "Epoch 9/20\n",
      "363/363 [==============================] - 1s 3ms/step - loss: 0.3068 - root_mean_squared_error: 0.5539 - val_loss: 4.0788 - val_root_mean_squared_error: 2.0196\n",
      "Epoch 10/20\n",
      "363/363 [==============================] - 1s 3ms/step - loss: 0.3328 - root_mean_squared_error: 0.5768 - val_loss: 0.4383 - val_root_mean_squared_error: 0.6620\n",
      "Epoch 11/20\n",
      "363/363 [==============================] - 2s 4ms/step - loss: 0.2915 - root_mean_squared_error: 0.5399 - val_loss: 0.6228 - val_root_mean_squared_error: 0.7892\n",
      "Epoch 12/20\n",
      "363/363 [==============================] - 1s 4ms/step - loss: 0.3041 - root_mean_squared_error: 0.5515 - val_loss: 1.1567 - val_root_mean_squared_error: 1.0755\n",
      "Epoch 13/20\n",
      "363/363 [==============================] - 1s 4ms/step - loss: 0.2931 - root_mean_squared_error: 0.5414 - val_loss: 0.2850 - val_root_mean_squared_error: 0.5338\n",
      "Epoch 14/20\n",
      "363/363 [==============================] - 1s 4ms/step - loss: 0.2876 - root_mean_squared_error: 0.5362 - val_loss: 0.2804 - val_root_mean_squared_error: 0.5295\n",
      "Epoch 15/20\n",
      "363/363 [==============================] - 2s 4ms/step - loss: 0.2870 - root_mean_squared_error: 0.5357 - val_loss: 0.3207 - val_root_mean_squared_error: 0.5663\n",
      "Epoch 16/20\n",
      "363/363 [==============================] - 1s 3ms/step - loss: 0.2831 - root_mean_squared_error: 0.5320 - val_loss: 0.3788 - val_root_mean_squared_error: 0.6155\n",
      "Epoch 17/20\n",
      "363/363 [==============================] - 1s 4ms/step - loss: 0.2805 - root_mean_squared_error: 0.5296 - val_loss: 0.3028 - val_root_mean_squared_error: 0.5503\n",
      "Epoch 18/20\n",
      "363/363 [==============================] - 1s 3ms/step - loss: 0.2758 - root_mean_squared_error: 0.5252 - val_loss: 0.3433 - val_root_mean_squared_error: 0.5859\n",
      "Epoch 19/20\n",
      "363/363 [==============================] - 1s 4ms/step - loss: 0.2756 - root_mean_squared_error: 0.5250 - val_loss: 0.3302 - val_root_mean_squared_error: 0.5746\n",
      "Epoch 20/20\n",
      "363/363 [==============================] - 1s 4ms/step - loss: 0.2745 - root_mean_squared_error: 0.5239 - val_loss: 0.3038 - val_root_mean_squared_error: 0.5512\n"
     ]
    }
   ],
   "source": [
    "# Set the random seed for repro\n",
    "tf.random.set_seed(42)\n",
    "\n",
    "# We need a normalization layer\n",
    "# It acts like StandardScaler (WARNING! - It needs to be fitted [using adapt method] before fitting the model)\n",
    "norm_layer = tf.keras.layers.Normalization(input_shape=X_train.shape[1:])\n",
    "\n",
    "# Define the model \n",
    "model = tf.keras.Sequential([\n",
    "    norm_layer,\n",
    "    tf.keras.layers.Dense(50, activation=\"relu\"),\n",
    "    tf.keras.layers.Dense(50, activation=\"relu\"),\n",
    "    tf.keras.layers.Dense(50, activation=\"relu\"),\n",
    "    tf.keras.layers.Dense(1)\n",
    "])\n",
    "# Choose the optimizer\n",
    "# learning rate is a VERY important Hyperparameter\n",
    "optimizer = tf.keras.optimizers.Adam(learning_rate=1e-3)\n",
    "\n",
    "# Compile the model\n",
    "model.compile(loss=\"mse\", optimizer=optimizer, metrics=[\"RootMeanSquaredError\"])\n",
    "\n",
    "# Fit the normalization layer\n",
    "norm_layer.adapt(X_train)\n",
    "\n",
    "# Fit the model\n",
    "history = model.fit(X_train, y_train, epochs=20,\n",
    "                    validation_data=(X_valid, y_valid))"
   ]
  },
  {
   "cell_type": "code",
   "execution_count": 50,
   "id": "a94cecf8",
   "metadata": {},
   "outputs": [
    {
     "name": "stdout",
     "output_type": "stream",
     "text": [
      "162/162 [==============================] - 0s 2ms/step - loss: 0.2878 - root_mean_squared_error: 0.5365\n",
      "1/1 [==============================] - 0s 155ms/step\n"
     ]
    }
   ],
   "source": [
    "mse_test, rmse_test = model.evaluate(X_test, y_test)\n",
    "X_new = X_test[:3]\n",
    "y_pred = model.predict(X_new)"
   ]
  },
  {
   "cell_type": "code",
   "execution_count": 52,
   "id": "11f27787",
   "metadata": {},
   "outputs": [
    {
     "data": {
      "text/plain": [
       "0.5364809632301331"
      ]
     },
     "execution_count": 52,
     "metadata": {},
     "output_type": "execute_result"
    }
   ],
   "source": [
    "rmse_test"
   ]
  },
  {
   "cell_type": "code",
   "execution_count": 54,
   "id": "c8b8d225",
   "metadata": {},
   "outputs": [
    {
     "data": {
      "text/plain": [
       "(array([[0.41029465],\n",
       "        [1.1116683 ],\n",
       "        [5.2060647 ]], dtype=float32),\n",
       " array([0.477  , 0.458  , 5.00001]))"
      ]
     },
     "execution_count": 54,
     "metadata": {},
     "output_type": "execute_result"
    }
   ],
   "source": [
    "y_pred, y_test[:3]"
   ]
  },
  {
   "cell_type": "markdown",
   "id": "b2224f97",
   "metadata": {},
   "source": [
    "## Building Complex Models Using the Functional API"
   ]
  },
  {
   "cell_type": "markdown",
   "id": "1395fa39",
   "metadata": {},
   "source": [
    "Sequential NNs are usefull but limit the topology of the NN. We can explore more complex NNs like a [a Wide & Deep\n",
    "neural network]([https://](https://research.google/pubs/wide-deep-learning-for-recommender-systems/))"
   ]
  },
  {
   "cell_type": "code",
   "execution_count": 55,
   "id": "369da09f",
   "metadata": {},
   "outputs": [],
   "source": [
    "# Reset name counters and repro\n",
    "tf.keras.backend.clear_session()\n",
    "tf.random.set_seed(42)"
   ]
  },
  {
   "cell_type": "code",
   "execution_count": 56,
   "id": "fc387e83",
   "metadata": {},
   "outputs": [],
   "source": [
    "# Define all the layers\n",
    "normalization_layer = tf.keras.layers.Normalization()\n",
    "hidden_layer_1 = tf.keras.layers.Dense(30, activation=\"relu\")\n",
    "hidden_layer_2 = tf.keras.layers.Dense(30, activation=\"relu\")\n",
    "concat_layer = tf.keras.layers.Concatenate()\n",
    "output_layer = tf.keras.layers.Dense(1)"
   ]
  },
  {
   "cell_type": "code",
   "execution_count": 57,
   "id": "be1f276f",
   "metadata": {},
   "outputs": [],
   "source": [
    "# 'Link' the layers\n",
    "input_ = tf.keras.layers.Input(shape=X_train.shape[1:])\n",
    "normalized = normalization_layer(input_)\n",
    "hidden_1 = hidden_layer_1(normalized)\n",
    "hidden_2 = hidden_layer_2(hidden_1)\n",
    "concat = concat_layer([normalized, hidden_2])\n",
    "output = output_layer(concat)\n",
    "\n",
    "model = tf.keras.Model(inputs=[input_], outputs=[output])"
   ]
  },
  {
   "cell_type": "code",
   "execution_count": 58,
   "id": "31f63234",
   "metadata": {},
   "outputs": [
    {
     "name": "stdout",
     "output_type": "stream",
     "text": [
      "Model: \"model\"\n",
      "__________________________________________________________________________________________________\n",
      " Layer (type)                Output Shape                 Param #   Connected to                  \n",
      "==================================================================================================\n",
      " input_1 (InputLayer)        [(None, 8)]                  0         []                            \n",
      "                                                                                                  \n",
      " normalization (Normalizati  (None, 8)                    17        ['input_1[0][0]']             \n",
      " on)                                                                                              \n",
      "                                                                                                  \n",
      " dense (Dense)               (None, 30)                   270       ['normalization[0][0]']       \n",
      "                                                                                                  \n",
      " dense_1 (Dense)             (None, 30)                   930       ['dense[0][0]']               \n",
      "                                                                                                  \n",
      " concatenate (Concatenate)   (None, 38)                   0         ['normalization[0][0]',       \n",
      "                                                                     'dense_1[0][0]']             \n",
      "                                                                                                  \n",
      " dense_2 (Dense)             (None, 1)                    39        ['concatenate[0][0]']         \n",
      "                                                                                                  \n",
      "==================================================================================================\n",
      "Total params: 1256 (4.91 KB)\n",
      "Trainable params: 1239 (4.84 KB)\n",
      "Non-trainable params: 17 (72.00 Byte)\n",
      "__________________________________________________________________________________________________\n"
     ]
    }
   ],
   "source": [
    "model.summary()"
   ]
  },
  {
   "cell_type": "code",
   "execution_count": 60,
   "id": "a7ce6f15",
   "metadata": {},
   "outputs": [
    {
     "name": "stdout",
     "output_type": "stream",
     "text": [
      "Epoch 1/20\n",
      "363/363 [==============================] - 3s 4ms/step - loss: 1.5473 - root_mean_squared_error: 1.2439 - val_loss: 0.5218 - val_root_mean_squared_error: 0.7223\n",
      "Epoch 2/20\n",
      "363/363 [==============================] - 1s 3ms/step - loss: 0.4766 - root_mean_squared_error: 0.6904 - val_loss: 0.6726 - val_root_mean_squared_error: 0.8201\n",
      "Epoch 3/20\n",
      "363/363 [==============================] - 1s 3ms/step - loss: 0.4107 - root_mean_squared_error: 0.6408 - val_loss: 0.3712 - val_root_mean_squared_error: 0.6093\n",
      "Epoch 4/20\n",
      "363/363 [==============================] - 1s 3ms/step - loss: 0.3870 - root_mean_squared_error: 0.6221 - val_loss: 0.3728 - val_root_mean_squared_error: 0.6105\n",
      "Epoch 5/20\n",
      "363/363 [==============================] - 1s 3ms/step - loss: 0.3729 - root_mean_squared_error: 0.6107 - val_loss: 0.4256 - val_root_mean_squared_error: 0.6524\n",
      "Epoch 6/20\n",
      "363/363 [==============================] - 1s 4ms/step - loss: 0.3604 - root_mean_squared_error: 0.6003 - val_loss: 1.1579 - val_root_mean_squared_error: 1.0760\n",
      "Epoch 7/20\n",
      "363/363 [==============================] - 1s 3ms/step - loss: 0.3626 - root_mean_squared_error: 0.6022 - val_loss: 0.6707 - val_root_mean_squared_error: 0.8189\n",
      "Epoch 8/20\n",
      "363/363 [==============================] - 1s 3ms/step - loss: 0.3422 - root_mean_squared_error: 0.5850 - val_loss: 1.3308 - val_root_mean_squared_error: 1.1536\n",
      "Epoch 9/20\n",
      "363/363 [==============================] - 1s 4ms/step - loss: 0.3418 - root_mean_squared_error: 0.5846 - val_loss: 2.7768 - val_root_mean_squared_error: 1.6664\n",
      "Epoch 10/20\n",
      "363/363 [==============================] - 1s 3ms/step - loss: 0.3566 - root_mean_squared_error: 0.5972 - val_loss: 3.4256 - val_root_mean_squared_error: 1.8508\n",
      "Epoch 11/20\n",
      "363/363 [==============================] - 2s 4ms/step - loss: 0.3430 - root_mean_squared_error: 0.5857 - val_loss: 0.4114 - val_root_mean_squared_error: 0.6414\n",
      "Epoch 12/20\n",
      "363/363 [==============================] - 1s 3ms/step - loss: 0.3367 - root_mean_squared_error: 0.5803 - val_loss: 1.1353 - val_root_mean_squared_error: 1.0655\n",
      "Epoch 13/20\n",
      "363/363 [==============================] - 1s 3ms/step - loss: 0.3233 - root_mean_squared_error: 0.5686 - val_loss: 0.4446 - val_root_mean_squared_error: 0.6667\n",
      "Epoch 14/20\n",
      "363/363 [==============================] - 1s 3ms/step - loss: 0.3144 - root_mean_squared_error: 0.5607 - val_loss: 0.5321 - val_root_mean_squared_error: 0.7294\n",
      "Epoch 15/20\n",
      "363/363 [==============================] - 1s 4ms/step - loss: 0.3158 - root_mean_squared_error: 0.5620 - val_loss: 0.5708 - val_root_mean_squared_error: 0.7555\n",
      "Epoch 16/20\n",
      "363/363 [==============================] - 1s 4ms/step - loss: 0.3115 - root_mean_squared_error: 0.5581 - val_loss: 0.8496 - val_root_mean_squared_error: 0.9218\n",
      "Epoch 17/20\n",
      "363/363 [==============================] - 1s 3ms/step - loss: 0.3106 - root_mean_squared_error: 0.5573 - val_loss: 0.7388 - val_root_mean_squared_error: 0.8595\n",
      "Epoch 18/20\n",
      "363/363 [==============================] - 1s 3ms/step - loss: 0.3069 - root_mean_squared_error: 0.5540 - val_loss: 3.1303 - val_root_mean_squared_error: 1.7693\n",
      "Epoch 19/20\n",
      "363/363 [==============================] - 1s 3ms/step - loss: 0.3176 - root_mean_squared_error: 0.5636 - val_loss: 1.8051 - val_root_mean_squared_error: 1.3435\n",
      "Epoch 20/20\n",
      "363/363 [==============================] - 1s 3ms/step - loss: 0.3200 - root_mean_squared_error: 0.5657 - val_loss: 1.4248 - val_root_mean_squared_error: 1.1937\n"
     ]
    }
   ],
   "source": [
    "# Model compilation (+ previous steps)\n",
    "learning_rate = 1e-3\n",
    "optimizer = tf.keras.optimizers.Adam(learning_rate=learning_rate)\n",
    "\n",
    "# Compile the model\n",
    "model.compile(loss='mse', optimizer=optimizer, metrics=[\"RootMeanSquaredError\"])\n",
    "\n",
    "# 'Fit' normalization layer BEFORE model training\n",
    "normalization_layer.adapt(X_train)\n",
    "\n",
    "history = model.fit(\n",
    "    X_train, y_train, \n",
    "    validation_data=(X_valid, y_valid), \n",
    "    epochs=20, batch_size=32)"
   ]
  }
 ],
 "metadata": {
  "kernelspec": {
   "display_name": "Python 3",
   "language": "python",
   "name": "python3"
  },
  "language_info": {
   "codemirror_mode": {
    "name": "ipython",
    "version": 3
   },
   "file_extension": ".py",
   "mimetype": "text/x-python",
   "name": "python",
   "nbconvert_exporter": "python",
   "pygments_lexer": "ipython3",
   "version": "3.10.18"
  }
 },
 "nbformat": 4,
 "nbformat_minor": 5
}
