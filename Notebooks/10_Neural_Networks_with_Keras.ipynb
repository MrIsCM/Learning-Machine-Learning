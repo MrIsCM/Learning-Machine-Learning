{
 "cells": [
  {
   "cell_type": "code",
   "execution_count": 1,
   "id": "a9dd41d0",
   "metadata": {},
   "outputs": [],
   "source": [
    "import sklearn\n",
    "import tensorflow as tf"
   ]
  },
  {
   "cell_type": "code",
   "execution_count": 2,
   "id": "9ef1ddf7",
   "metadata": {},
   "outputs": [
    {
     "name": "stdout",
     "output_type": "stream",
     "text": [
      "Sklearn version: 1.3.2\n",
      "TensorFlow version: 2.14.1\n"
     ]
    }
   ],
   "source": [
    "print(\"Sklearn version:\", sklearn.__version__)\n",
    "print(\"TensorFlow version:\", tf.__version__)"
   ]
  },
  {
   "cell_type": "code",
   "execution_count": 3,
   "id": "80686a08",
   "metadata": {},
   "outputs": [],
   "source": [
    "import matplotlib.pyplot as plt\n",
    "\n",
    "plt.rc('font', size=14)\n",
    "plt.rc('axes', labelsize=14, titlesize=14)\n",
    "plt.rc('legend', fontsize=14)\n",
    "plt.rc('xtick', labelsize=10)\n",
    "plt.rc('ytick', labelsize=10)"
   ]
  },
  {
   "cell_type": "markdown",
   "id": "8e97cb27",
   "metadata": {},
   "source": [
    "# Perceptron"
   ]
  },
  {
   "cell_type": "code",
   "execution_count": 4,
   "id": "c9830cc5",
   "metadata": {},
   "outputs": [
    {
     "data": {
      "text/plain": [
       "array([ True, False])"
      ]
     },
     "execution_count": 4,
     "metadata": {},
     "output_type": "execute_result"
    }
   ],
   "source": [
    "# Simple example using the perceptron class from sklearn\n",
    "\n",
    "import numpy as np\n",
    "from sklearn.datasets import load_iris\n",
    "from sklearn.linear_model import Perceptron\n",
    "\n",
    "iris = load_iris(as_frame=True)\n",
    "X = iris.data[[\"petal length (cm)\", \"petal width (cm)\"]].values\n",
    "y = (iris.target == 0) # Iris Setosa\n",
    "\n",
    "perceptron_clf = Perceptron(random_state=42)\n",
    "perceptron_clf.fit(X, y)\n",
    "\n",
    "X_new = np.array([[1.5, 0.2], [5.5, 1.8]])\n",
    "y_pred = perceptron_clf.predict(X_new)\n",
    "y_pred"
   ]
  },
  {
   "cell_type": "markdown",
   "id": "65a34979",
   "metadata": {},
   "source": [
    "# Regression MLPs"
   ]
  },
  {
   "cell_type": "code",
   "execution_count": 5,
   "id": "5393115f",
   "metadata": {},
   "outputs": [],
   "source": [
    "# Simple example of regression using an MLP on California Housing Data\n",
    "\n",
    "from sklearn.datasets import fetch_california_housing\n",
    "from sklearn.metrics import mean_squared_error\n",
    "from sklearn.model_selection import train_test_split\n",
    "from sklearn.neural_network import MLPRegressor\n",
    "from sklearn.pipeline import make_pipeline\n",
    "from sklearn.preprocessing import StandardScaler"
   ]
  },
  {
   "cell_type": "code",
   "execution_count": 6,
   "id": "67c10091",
   "metadata": {},
   "outputs": [],
   "source": [
    "# Load data\n",
    "housing = fetch_california_housing()\n",
    "\n",
    "\n",
    "# Split in train, test and val (2 splits)\n",
    "X_train_val, X_test, y_train_val, y_test = train_test_split(\n",
    "    housing.data, housing.target, random_state=42\n",
    ")\n",
    "\n",
    "X_train, X_val, y_train, y_val = train_test_split(\n",
    "    X_train_val, y_train_val, random_state=42\n",
    ")\n",
    "\n",
    "# Model\n",
    "mlp_reg = MLPRegressor(\n",
    "    hidden_layer_sizes=[50, 50, 50],\n",
    "    random_state=42\n",
    ")"
   ]
  },
  {
   "cell_type": "code",
   "execution_count": 7,
   "id": "6c89bc14",
   "metadata": {},
   "outputs": [],
   "source": [
    "# Pipeline\n",
    "pipeline = make_pipeline(\n",
    "    StandardScaler(),\n",
    "    mlp_reg\n",
    ")\n",
    "\n",
    "pipeline.fit(X_train, y_train)\n",
    "y_pred = pipeline.predict(X_val)\n",
    "rmse = mean_squared_error(y_val, y_pred, squared=False)"
   ]
  },
  {
   "cell_type": "code",
   "execution_count": 8,
   "id": "179ec121",
   "metadata": {},
   "outputs": [
    {
     "data": {
      "text/plain": [
       "0.5053326657968626"
      ]
     },
     "execution_count": 8,
     "metadata": {},
     "output_type": "execute_result"
    }
   ],
   "source": [
    "rmse"
   ]
  },
  {
   "cell_type": "markdown",
   "id": "2aba1b0e",
   "metadata": {},
   "source": [
    "# Classification MLPs"
   ]
  },
  {
   "cell_type": "markdown",
   "id": "8c7f1512",
   "metadata": {},
   "source": [
    "# MLPs with Keras"
   ]
  },
  {
   "cell_type": "markdown",
   "id": "7f70868f",
   "metadata": {},
   "source": [
    "## Image Classifier Using the Sequential API"
   ]
  },
  {
   "cell_type": "code",
   "execution_count": 9,
   "id": "c16c5959",
   "metadata": {},
   "outputs": [],
   "source": [
    "# Using Keras and Fashion MNIST dataset\n",
    "\n",
    "import tensorflow as tf\n",
    "\n",
    "fashion_mnist = tf.keras.datasets.fashion_mnist.load_data()\n",
    "(X_train_val, y_train_val), (X_test, y_test) = fashion_mnist\n",
    "val_size = 5000\n",
    "X_train, X_val = X_train_val[:-val_size], X_train_val[-val_size:]\n",
    "y_train, y_val = y_train_val[:-val_size], y_train_val[-val_size:]"
   ]
  },
  {
   "cell_type": "code",
   "execution_count": 10,
   "id": "f7ee0e71",
   "metadata": {},
   "outputs": [
    {
     "data": {
      "text/plain": [
       "((55000, 28, 28), dtype('uint8'))"
      ]
     },
     "execution_count": 10,
     "metadata": {},
     "output_type": "execute_result"
    }
   ],
   "source": [
    "X_train.shape, X_train.dtype"
   ]
  },
  {
   "cell_type": "code",
   "execution_count": 11,
   "id": "7a405943",
   "metadata": {},
   "outputs": [],
   "source": [
    "# 'Normalizing' pixel intensity, [0, 255] -> [0, 1]\n",
    "X_train = X_train / 255.0\n",
    "X_val = X_val / 255.0\n",
    "X_test = X_test / 255.0"
   ]
  },
  {
   "cell_type": "code",
   "execution_count": 12,
   "id": "d187f54f",
   "metadata": {},
   "outputs": [],
   "source": [
    "# Target is the class label ID (0-9)\n",
    "# The corresponding labels are:\n",
    "class_names = [\"T-shirt/top\", \"Trouser\", \"Pullover\", \"Dress\", \"Coat\", \"Sandal\", \"Shirt\", \"Sneaker\", \"Bag\", \"Ankle boot\"]"
   ]
  },
  {
   "cell_type": "code",
   "execution_count": 13,
   "id": "9f569402",
   "metadata": {},
   "outputs": [
    {
     "data": {
      "text/plain": [
       "Text(0.5, 1.0, 'Ankle boot')"
      ]
     },
     "execution_count": 13,
     "metadata": {},
     "output_type": "execute_result"
    },
    {
     "data": {
      "image/png": "[encoded data removed]",
      "text/plain": [
       "<Figure size 640x480 with 1 Axes>"
      ]
     },
     "metadata": {},
     "output_type": "display_data"
    }
   ],
   "source": [
    "# Quick visualization\n",
    "import matplotlib.pyplot as plt\n",
    "\n",
    "idx = 0\n",
    "plt.imshow(X_train[idx], cmap='binary')\n",
    "plt.title(class_names[y_train[idx]])"
   ]
  },
  {
   "cell_type": "markdown",
   "id": "9049855d",
   "metadata": {},
   "source": [
    "### Creating the Model Using the Sequential API "
   ]
  },
  {
   "cell_type": "code",
   "execution_count": 14,
   "id": "549a6108",
   "metadata": {},
   "outputs": [],
   "source": [
    "# random seed for reproducibility\n",
    "tf.random.set_seed(42)\n",
    "model = tf.keras.Sequential()\n",
    "model.add(tf.keras.layers.Input(shape=[28, 28]))\n",
    "model.add(tf.keras.layers.Flatten())\n",
    "model.add(tf.keras.layers.Dense(300, activation='relu'))\n",
    "model.add(tf.keras.layers.Dense(100, activation='relu'))\n",
    "model.add(tf.keras.layers.Dense(10, activation='softmax'))"
   ]
  },
  {
   "cell_type": "code",
   "execution_count": 15,
   "id": "b7280b4d",
   "metadata": {},
   "outputs": [
    {
     "name": "stdout",
     "output_type": "stream",
     "text": [
      "Model: \"sequential\"\n",
      "_________________________________________________________________\n",
      " Layer (type)                Output Shape              Param #   \n",
      "=================================================================\n",
      " flatten (Flatten)           (None, 784)               0         \n",
      "                                                                 \n",
      " dense (Dense)               (None, 300)               235500    \n",
      "                                                                 \n",
      " dense_1 (Dense)             (None, 100)               30100     \n",
      "                                                                 \n",
      " dense_2 (Dense)             (None, 10)                1010      \n",
      "                                                                 \n",
      "=================================================================\n",
      "Total params: 266610 (1.02 MB)\n",
      "Trainable params: 266610 (1.02 MB)\n",
      "Non-trainable params: 0 (0.00 Byte)\n",
      "_________________________________________________________________\n"
     ]
    }
   ],
   "source": [
    "# Model info\n",
    "model.summary()"
   ]
  },
  {
   "cell_type": "code",
   "execution_count": 16,
   "id": "67b4cfc6",
   "metadata": {},
   "outputs": [
    {
     "data": {
      "image/png": "[encoded data removed]",
      "text/plain": [
       "<IPython.core.display.Image object>"
      ]
     },
     "execution_count": 16,
     "metadata": {},
     "output_type": "execute_result"
    }
   ],
   "source": [
    "tf.keras.utils.plot_model(model, show_shapes=True, show_layer_names=True)"
   ]
  },
  {
   "cell_type": "code",
   "execution_count": 17,
   "id": "bf217f6c",
   "metadata": {},
   "outputs": [
    {
     "data": {
      "text/plain": [
       "[<keras.src.layers.reshaping.flatten.Flatten at 0x1f577cbfaf0>,\n",
       " <keras.src.layers.core.dense.Dense at 0x1f577d0e710>,\n",
       " <keras.src.layers.core.dense.Dense at 0x1f577d0e9e0>,\n",
       " <keras.src.layers.core.dense.Dense at 0x1f577d0eb30>]"
      ]
     },
     "execution_count": 17,
     "metadata": {},
     "output_type": "execute_result"
    }
   ],
   "source": [
    "model.layers"
   ]
  },
  {
   "cell_type": "code",
   "execution_count": 18,
   "id": "0a621b0c",
   "metadata": {},
   "outputs": [
    {
     "data": {
      "text/plain": [
       "('dense', (None, 784), (None, 300))"
      ]
     },
     "execution_count": 18,
     "metadata": {},
     "output_type": "execute_result"
    }
   ],
   "source": [
    "hidden_layer = model.layers[1]\n",
    "hidden_layer.name, hidden_layer.input_shape, hidden_layer.output_shape"
   ]
  },
  {
   "cell_type": "markdown",
   "id": "7c942e9e",
   "metadata": {},
   "source": [
    "### Compile the Model"
   ]
  },
  {
   "cell_type": "code",
   "execution_count": 19,
   "id": "9a93f839",
   "metadata": {},
   "outputs": [],
   "source": [
    "# Compiling the model to set the loss function, optimizer, and metrics\n",
    "model.compile(\n",
    "    loss='sparse_categorical_crossentropy',\n",
    "    # stochastic gradient descent\n",
    "    optimizer='sgd',\n",
    "    metrics=['accuracy']\n",
    ")"
   ]
  },
  {
   "cell_type": "code",
   "execution_count": 20,
   "id": "44e612a1",
   "metadata": {},
   "outputs": [
    {
     "name": "stdout",
     "output_type": "stream",
     "text": [
      "Epoch 1/30\n",
      "1719/1719 [==============================] - 13s 7ms/step - loss: 0.7233 - accuracy: 0.7641 - val_loss: 0.5059 - val_accuracy: 0.8260\n",
      "Epoch 2/30\n",
      "1719/1719 [==============================] - 10s 6ms/step - loss: 0.4873 - accuracy: 0.8307 - val_loss: 0.4628 - val_accuracy: 0.8330\n",
      "Epoch 3/30\n",
      "1719/1719 [==============================] - 9s 5ms/step - loss: 0.4400 - accuracy: 0.8455 - val_loss: 0.4210 - val_accuracy: 0.8550\n",
      "Epoch 4/30\n",
      "1719/1719 [==============================] - 11s 6ms/step - loss: 0.4154 - accuracy: 0.8543 - val_loss: 0.3968 - val_accuracy: 0.8618\n",
      "Epoch 5/30\n",
      "1719/1719 [==============================] - 10s 6ms/step - loss: 0.3949 - accuracy: 0.8608 - val_loss: 0.3901 - val_accuracy: 0.8620\n",
      "Epoch 6/30\n",
      "1719/1719 [==============================] - 9s 5ms/step - loss: 0.3788 - accuracy: 0.8660 - val_loss: 0.3955 - val_accuracy: 0.8596\n",
      "Epoch 7/30\n",
      "1719/1719 [==============================] - 7s 4ms/step - loss: 0.3664 - accuracy: 0.8700 - val_loss: 0.3722 - val_accuracy: 0.8710\n",
      "Epoch 8/30\n",
      "1719/1719 [==============================] - 7s 4ms/step - loss: 0.3552 - accuracy: 0.8738 - val_loss: 0.3781 - val_accuracy: 0.8628\n",
      "Epoch 9/30\n",
      "1719/1719 [==============================] - 7s 4ms/step - loss: 0.3448 - accuracy: 0.8781 - val_loss: 0.3527 - val_accuracy: 0.8722\n",
      "Epoch 10/30\n",
      "1719/1719 [==============================] - 7s 4ms/step - loss: 0.3348 - accuracy: 0.8813 - val_loss: 0.3514 - val_accuracy: 0.8730\n",
      "Epoch 11/30\n",
      "1719/1719 [==============================] - 7s 4ms/step - loss: 0.3264 - accuracy: 0.8844 - val_loss: 0.3642 - val_accuracy: 0.8670\n",
      "Epoch 12/30\n",
      "1719/1719 [==============================] - 7s 4ms/step - loss: 0.3185 - accuracy: 0.8859 - val_loss: 0.3501 - val_accuracy: 0.8740\n",
      "Epoch 13/30\n",
      "1719/1719 [==============================] - 7s 4ms/step - loss: 0.3114 - accuracy: 0.8899 - val_loss: 0.3303 - val_accuracy: 0.8772\n",
      "Epoch 14/30\n",
      "1719/1719 [==============================] - 7s 4ms/step - loss: 0.3043 - accuracy: 0.8917 - val_loss: 0.3417 - val_accuracy: 0.8768\n",
      "Epoch 15/30\n",
      "1719/1719 [==============================] - 7s 4ms/step - loss: 0.2987 - accuracy: 0.8936 - val_loss: 0.3374 - val_accuracy: 0.8784\n",
      "Epoch 16/30\n",
      "1719/1719 [==============================] - 7s 4ms/step - loss: 0.2918 - accuracy: 0.8950 - val_loss: 0.3311 - val_accuracy: 0.8764\n",
      "Epoch 17/30\n",
      "1719/1719 [==============================] - 7s 4ms/step - loss: 0.2866 - accuracy: 0.8967 - val_loss: 0.3357 - val_accuracy: 0.8728\n",
      "Epoch 18/30\n",
      "1719/1719 [==============================] - 7s 4ms/step - loss: 0.2803 - accuracy: 0.8998 - val_loss: 0.3324 - val_accuracy: 0.8780\n",
      "Epoch 19/30\n",
      "1719/1719 [==============================] - 7s 4ms/step - loss: 0.2758 - accuracy: 0.9007 - val_loss: 0.3607 - val_accuracy: 0.8636\n",
      "Epoch 20/30\n",
      "1719/1719 [==============================] - 7s 4ms/step - loss: 0.2709 - accuracy: 0.9035 - val_loss: 0.3240 - val_accuracy: 0.8798\n",
      "Epoch 21/30\n",
      "1719/1719 [==============================] - 7s 4ms/step - loss: 0.2656 - accuracy: 0.9047 - val_loss: 0.3180 - val_accuracy: 0.8852\n",
      "Epoch 22/30\n",
      "1719/1719 [==============================] - 7s 4ms/step - loss: 0.2606 - accuracy: 0.9066 - val_loss: 0.3158 - val_accuracy: 0.8814\n",
      "Epoch 23/30\n",
      "1719/1719 [==============================] - 7s 4ms/step - loss: 0.2565 - accuracy: 0.9079 - val_loss: 0.3462 - val_accuracy: 0.8700\n",
      "Epoch 24/30\n",
      "1719/1719 [==============================] - 7s 4ms/step - loss: 0.2509 - accuracy: 0.9103 - val_loss: 0.3266 - val_accuracy: 0.8788\n",
      "Epoch 25/30\n",
      "1719/1719 [==============================] - 7s 4ms/step - loss: 0.2473 - accuracy: 0.9100 - val_loss: 0.3156 - val_accuracy: 0.8824\n",
      "Epoch 26/30\n",
      "1719/1719 [==============================] - 7s 4ms/step - loss: 0.2437 - accuracy: 0.9135 - val_loss: 0.3120 - val_accuracy: 0.8826\n",
      "Epoch 27/30\n",
      "1719/1719 [==============================] - 7s 4ms/step - loss: 0.2383 - accuracy: 0.9138 - val_loss: 0.3234 - val_accuracy: 0.8836\n",
      "Epoch 28/30\n",
      "1719/1719 [==============================] - 8s 5ms/step - loss: 0.2356 - accuracy: 0.9157 - val_loss: 0.3118 - val_accuracy: 0.8858\n",
      "Epoch 29/30\n",
      "1719/1719 [==============================] - 9s 5ms/step - loss: 0.2316 - accuracy: 0.9160 - val_loss: 0.3149 - val_accuracy: 0.8852\n",
      "Epoch 30/30\n",
      "1719/1719 [==============================] - 10s 6ms/step - loss: 0.2284 - accuracy: 0.9185 - val_loss: 0.3107 - val_accuracy: 0.8862\n"
     ]
    }
   ],
   "source": [
    "history = model.fit(X_train, y_train, epochs=30, validation_data=(X_val, y_val))"
   ]
  },
  {
   "cell_type": "code",
   "execution_count": 21,
   "id": "64246ae2",
   "metadata": {},
   "outputs": [
    {
     "data": {
      "image/png": "[encoded data removed]",
      "text/plain": [
       "<Figure size 800x500 with 1 Axes>"
      ]
     },
     "metadata": {},
     "output_type": "display_data"
    }
   ],
   "source": [
    "import pandas as pd\n",
    "\n",
    "pd.DataFrame(history.history).plot(figsize=(8, 5), xlim=(0, 29), ylim=(0, 1), grid=True, xlabel='Epochs', style=[\"r--\", \"r--.\", \"b-\", \"b-*\"])\n",
    "plt.show()"
   ]
  },
  {
   "cell_type": "code",
   "execution_count": 22,
   "id": "a7cbfc0d",
   "metadata": {},
   "outputs": [
    {
     "name": "stdout",
     "output_type": "stream",
     "text": [
      "313/313 [==============================] - 1s 4ms/step - loss: 0.3245 - accuracy: 0.8848\n"
     ]
    },
    {
     "data": {
      "text/plain": [
       "[0.3245452046394348, 0.8848000168800354]"
      ]
     },
     "execution_count": 22,
     "metadata": {},
     "output_type": "execute_result"
    }
   ],
   "source": [
    "model.evaluate(X_test, y_test)"
   ]
  },
  {
   "cell_type": "markdown",
   "id": "ea727a38",
   "metadata": {},
   "source": [
    "## Building a Regression MLP Using the Sequential API"
   ]
  },
  {
   "cell_type": "code",
   "execution_count": 23,
   "id": "19fc94e1",
   "metadata": {},
   "outputs": [],
   "source": [
    "housing = fetch_california_housing()\n",
    "X_train_full, X_test, y_train_full, y_test = train_test_split(\n",
    "    housing.data, housing.target, random_state=42)\n",
    "X_train, X_valid, y_train, y_valid = train_test_split(\n",
    "    X_train_full, y_train_full, random_state=42)"
   ]
  },
  {
   "cell_type": "code",
   "execution_count": 24,
   "id": "fb964300",
   "metadata": {},
   "outputs": [
    {
     "name": "stdout",
     "output_type": "stream",
     "text": [
      "Epoch 1/20\n",
      "363/363 [==============================] - 4s 5ms/step - loss: 0.7604 - root_mean_squared_error: 0.8720 - val_loss: 0.3718 - val_root_mean_squared_error: 0.6097\n",
      "Epoch 2/20\n",
      "363/363 [==============================] - 2s 5ms/step - loss: 0.3763 - root_mean_squared_error: 0.6134 - val_loss: 2.3865 - val_root_mean_squared_error: 1.5448\n",
      "Epoch 3/20\n",
      "363/363 [==============================] - 2s 5ms/step - loss: 0.3764 - root_mean_squared_error: 0.6135 - val_loss: 0.4399 - val_root_mean_squared_error: 0.6633\n",
      "Epoch 4/20\n",
      "363/363 [==============================] - 2s 5ms/step - loss: 0.3429 - root_mean_squared_error: 0.5856 - val_loss: 0.3210 - val_root_mean_squared_error: 0.5665\n",
      "Epoch 5/20\n",
      "363/363 [==============================] - 2s 5ms/step - loss: 0.3309 - root_mean_squared_error: 0.5752 - val_loss: 0.8110 - val_root_mean_squared_error: 0.9006\n",
      "Epoch 6/20\n",
      "363/363 [==============================] - 2s 5ms/step - loss: 0.3257 - root_mean_squared_error: 0.5707 - val_loss: 1.1919 - val_root_mean_squared_error: 1.0917\n",
      "Epoch 7/20\n",
      "363/363 [==============================] - 2s 5ms/step - loss: 0.3207 - root_mean_squared_error: 0.5663 - val_loss: 0.3510 - val_root_mean_squared_error: 0.5924\n",
      "Epoch 8/20\n",
      "363/363 [==============================] - 2s 4ms/step - loss: 0.3083 - root_mean_squared_error: 0.5553 - val_loss: 1.0525 - val_root_mean_squared_error: 1.0259\n",
      "Epoch 9/20\n",
      "363/363 [==============================] - 2s 5ms/step - loss: 0.3091 - root_mean_squared_error: 0.5560 - val_loss: 0.6234 - val_root_mean_squared_error: 0.7895\n",
      "Epoch 10/20\n",
      "363/363 [==============================] - 2s 5ms/step - loss: 0.3006 - root_mean_squared_error: 0.5483 - val_loss: 0.6410 - val_root_mean_squared_error: 0.8006\n",
      "Epoch 11/20\n",
      "363/363 [==============================] - 2s 4ms/step - loss: 0.2917 - root_mean_squared_error: 0.5401 - val_loss: 0.3037 - val_root_mean_squared_error: 0.5510\n",
      "Epoch 12/20\n",
      "363/363 [==============================] - 1s 4ms/step - loss: 0.2991 - root_mean_squared_error: 0.5469 - val_loss: 0.4702 - val_root_mean_squared_error: 0.6857\n",
      "Epoch 13/20\n",
      "363/363 [==============================] - 2s 4ms/step - loss: 0.2854 - root_mean_squared_error: 0.5342 - val_loss: 0.2870 - val_root_mean_squared_error: 0.5357\n",
      "Epoch 14/20\n",
      "363/363 [==============================] - 2s 4ms/step - loss: 0.2832 - root_mean_squared_error: 0.5322 - val_loss: 0.3076 - val_root_mean_squared_error: 0.5547\n",
      "Epoch 15/20\n",
      "363/363 [==============================] - 1s 3ms/step - loss: 0.2801 - root_mean_squared_error: 0.5292 - val_loss: 0.2842 - val_root_mean_squared_error: 0.5331\n",
      "Epoch 16/20\n",
      "363/363 [==============================] - 1s 3ms/step - loss: 0.2777 - root_mean_squared_error: 0.5270 - val_loss: 0.2989 - val_root_mean_squared_error: 0.5467\n",
      "Epoch 17/20\n",
      "363/363 [==============================] - 1s 3ms/step - loss: 0.2770 - root_mean_squared_error: 0.5263 - val_loss: 0.4632 - val_root_mean_squared_error: 0.6806\n",
      "Epoch 18/20\n",
      "363/363 [==============================] - 1s 3ms/step - loss: 0.2718 - root_mean_squared_error: 0.5214 - val_loss: 0.2809 - val_root_mean_squared_error: 0.5300\n",
      "Epoch 19/20\n",
      "363/363 [==============================] - 1s 3ms/step - loss: 0.2673 - root_mean_squared_error: 0.5170 - val_loss: 0.2858 - val_root_mean_squared_error: 0.5346\n",
      "Epoch 20/20\n",
      "363/363 [==============================] - 1s 3ms/step - loss: 0.2687 - root_mean_squared_error: 0.5183 - val_loss: 0.3920 - val_root_mean_squared_error: 0.6261\n"
     ]
    }
   ],
   "source": [
    "# Set the random seed for repro\n",
    "tf.random.set_seed(42)\n",
    "\n",
    "# We need a normalization layer\n",
    "# It acts like StandardScaler (WARNING! - It needs to be fitted [using adapt method] before fitting the model)\n",
    "norm_layer = tf.keras.layers.Normalization(input_shape=X_train.shape[1:])\n",
    "\n",
    "# Define the model \n",
    "model = tf.keras.Sequential([\n",
    "    norm_layer,\n",
    "    tf.keras.layers.Dense(50, activation=\"relu\"),\n",
    "    tf.keras.layers.Dense(50, activation=\"relu\"),\n",
    "    tf.keras.layers.Dense(50, activation=\"relu\"),\n",
    "    tf.keras.layers.Dense(1)\n",
    "])\n",
    "# Choose the optimizer\n",
    "# learning rate is a VERY important Hyperparameter\n",
    "optimizer = tf.keras.optimizers.Adam(learning_rate=1e-3)\n",
    "\n",
    "# Compile the model\n",
    "model.compile(loss=\"mse\", optimizer=optimizer, metrics=[\"RootMeanSquaredError\"])\n",
    "\n",
    "# Fit the normalization layer\n",
    "norm_layer.adapt(X_train)\n",
    "\n",
    "# Fit the model\n",
    "history = model.fit(X_train, y_train, epochs=20,\n",
    "                    validation_data=(X_valid, y_valid))"
   ]
  },
  {
   "cell_type": "code",
   "execution_count": 25,
   "id": "a94cecf8",
   "metadata": {},
   "outputs": [
    {
     "name": "stdout",
     "output_type": "stream",
     "text": [
      "162/162 [==============================] - 0s 2ms/step - loss: 0.2806 - root_mean_squared_error: 0.5297\n",
      "1/1 [==============================] - 0s 161ms/step\n"
     ]
    }
   ],
   "source": [
    "mse_test, rmse_test = model.evaluate(X_test, y_test)\n",
    "X_new = X_test[:3]\n",
    "y_pred = model.predict(X_new)"
   ]
  },
  {
   "cell_type": "code",
   "execution_count": 26,
   "id": "11f27787",
   "metadata": {},
   "outputs": [
    {
     "data": {
      "text/plain": [
       "0.5296763181686401"
      ]
     },
     "execution_count": 26,
     "metadata": {},
     "output_type": "execute_result"
    }
   ],
   "source": [
    "rmse_test"
   ]
  },
  {
   "cell_type": "code",
   "execution_count": 27,
   "id": "c8b8d225",
   "metadata": {},
   "outputs": [
    {
     "data": {
      "text/plain": [
       "(array([[0.445819 ],\n",
       "        [1.1496857],\n",
       "        [4.815292 ]], dtype=float32),\n",
       " array([0.477  , 0.458  , 5.00001]))"
      ]
     },
     "execution_count": 27,
     "metadata": {},
     "output_type": "execute_result"
    }
   ],
   "source": [
    "y_pred, y_test[:3]"
   ]
  },
  {
   "cell_type": "markdown",
   "id": "b2224f97",
   "metadata": {},
   "source": [
    "## Building Complex Models Using the Functional API"
   ]
  },
  {
   "cell_type": "markdown",
   "id": "1395fa39",
   "metadata": {},
   "source": [
    "Sequential NNs are usefull but limit the topology of the NN. We can explore more complex NNs like a [a Wide & Deep\n",
    "neural network]([https://](https://research.google/pubs/wide-deep-learning-for-recommender-systems/))"
   ]
  },
  {
   "cell_type": "code",
   "execution_count": 28,
   "id": "369da09f",
   "metadata": {},
   "outputs": [],
   "source": [
    "# Reset name counters and repro\n",
    "tf.keras.backend.clear_session()\n",
    "tf.random.set_seed(42)"
   ]
  },
  {
   "cell_type": "code",
   "execution_count": 29,
   "id": "fc387e83",
   "metadata": {},
   "outputs": [],
   "source": [
    "# Define all the layers\n",
    "normalization_layer = tf.keras.layers.Normalization()\n",
    "hidden_layer_1 = tf.keras.layers.Dense(30, activation=\"relu\")\n",
    "hidden_layer_2 = tf.keras.layers.Dense(30, activation=\"relu\")\n",
    "concat_layer = tf.keras.layers.Concatenate()\n",
    "output_layer = tf.keras.layers.Dense(1)"
   ]
  },
  {
   "cell_type": "code",
   "execution_count": 30,
   "id": "be1f276f",
   "metadata": {},
   "outputs": [],
   "source": [
    "# 'Link' the layers\n",
    "input_ = tf.keras.layers.Input(shape=X_train.shape[1:])\n",
    "normalized = normalization_layer(input_)\n",
    "hidden_1 = hidden_layer_1(normalized)\n",
    "hidden_2 = hidden_layer_2(hidden_1)\n",
    "concat = concat_layer([normalized, hidden_2])\n",
    "output = output_layer(concat)\n",
    "\n",
    "model = tf.keras.Model(inputs=[input_], outputs=[output])"
   ]
  },
  {
   "cell_type": "code",
   "execution_count": 31,
   "id": "31f63234",
   "metadata": {},
   "outputs": [
    {
     "name": "stdout",
     "output_type": "stream",
     "text": [
      "Model: \"model\"\n",
      "__________________________________________________________________________________________________\n",
      " Layer (type)                Output Shape                 Param #   Connected to                  \n",
      "==================================================================================================\n",
      " input_1 (InputLayer)        [(None, 8)]                  0         []                            \n",
      "                                                                                                  \n",
      " normalization (Normalizati  (None, 8)                    17        ['input_1[0][0]']             \n",
      " on)                                                                                              \n",
      "                                                                                                  \n",
      " dense (Dense)               (None, 30)                   270       ['normalization[0][0]']       \n",
      "                                                                                                  \n",
      " dense_1 (Dense)             (None, 30)                   930       ['dense[0][0]']               \n",
      "                                                                                                  \n",
      " concatenate (Concatenate)   (None, 38)                   0         ['normalization[0][0]',       \n",
      "                                                                     'dense_1[0][0]']             \n",
      "                                                                                                  \n",
      " dense_2 (Dense)             (None, 1)                    39        ['concatenate[0][0]']         \n",
      "                                                                                                  \n",
      "==================================================================================================\n",
      "Total params: 1256 (4.91 KB)\n",
      "Trainable params: 1239 (4.84 KB)\n",
      "Non-trainable params: 17 (72.00 Byte)\n",
      "__________________________________________________________________________________________________\n"
     ]
    }
   ],
   "source": [
    "model.summary()"
   ]
  },
  {
   "cell_type": "code",
   "execution_count": 32,
   "id": "a7ce6f15",
   "metadata": {},
   "outputs": [
    {
     "name": "stdout",
     "output_type": "stream",
     "text": [
      "Epoch 1/20\n",
      "363/363 [==============================] - 2s 4ms/step - loss: 1.1320 - root_mean_squared_error: 1.0640 - val_loss: 1.0845 - val_root_mean_squared_error: 1.0414\n",
      "Epoch 2/20\n",
      "363/363 [==============================] - 1s 3ms/step - loss: 0.4624 - root_mean_squared_error: 0.6800 - val_loss: 0.5503 - val_root_mean_squared_error: 0.7418\n",
      "Epoch 3/20\n",
      "363/363 [==============================] - 1s 3ms/step - loss: 0.4020 - root_mean_squared_error: 0.6341 - val_loss: 1.0616 - val_root_mean_squared_error: 1.0303\n",
      "Epoch 4/20\n",
      "363/363 [==============================] - 1s 3ms/step - loss: 0.3853 - root_mean_squared_error: 0.6207 - val_loss: 2.3311 - val_root_mean_squared_error: 1.5268\n",
      "Epoch 5/20\n",
      "363/363 [==============================] - 1s 3ms/step - loss: 0.3721 - root_mean_squared_error: 0.6100 - val_loss: 3.2931 - val_root_mean_squared_error: 1.8147\n",
      "Epoch 6/20\n",
      "363/363 [==============================] - 1s 4ms/step - loss: 0.3872 - root_mean_squared_error: 0.6223 - val_loss: 4.5622 - val_root_mean_squared_error: 2.1359\n",
      "Epoch 7/20\n",
      "363/363 [==============================] - 1s 3ms/step - loss: 0.3837 - root_mean_squared_error: 0.6194 - val_loss: 3.5692 - val_root_mean_squared_error: 1.8892\n",
      "Epoch 8/20\n",
      "363/363 [==============================] - 1s 3ms/step - loss: 0.3541 - root_mean_squared_error: 0.5951 - val_loss: 3.3151 - val_root_mean_squared_error: 1.8207\n",
      "Epoch 9/20\n",
      "363/363 [==============================] - 1s 3ms/step - loss: 0.3555 - root_mean_squared_error: 0.5963 - val_loss: 3.6952 - val_root_mean_squared_error: 1.9223\n",
      "Epoch 10/20\n",
      "363/363 [==============================] - 1s 3ms/step - loss: 0.3688 - root_mean_squared_error: 0.6073 - val_loss: 2.3662 - val_root_mean_squared_error: 1.5382\n",
      "Epoch 11/20\n",
      "363/363 [==============================] - 1s 3ms/step - loss: 0.3345 - root_mean_squared_error: 0.5783 - val_loss: 0.8896 - val_root_mean_squared_error: 0.9432\n",
      "Epoch 12/20\n",
      "363/363 [==============================] - 1s 3ms/step - loss: 0.3433 - root_mean_squared_error: 0.5859 - val_loss: 1.6174 - val_root_mean_squared_error: 1.2718\n",
      "Epoch 13/20\n",
      "363/363 [==============================] - 1s 3ms/step - loss: 0.3280 - root_mean_squared_error: 0.5727 - val_loss: 1.6014 - val_root_mean_squared_error: 1.2655\n",
      "Epoch 14/20\n",
      "363/363 [==============================] - 1s 3ms/step - loss: 0.3222 - root_mean_squared_error: 0.5676 - val_loss: 2.1045 - val_root_mean_squared_error: 1.4507\n",
      "Epoch 15/20\n",
      "363/363 [==============================] - 1s 4ms/step - loss: 0.3234 - root_mean_squared_error: 0.5687 - val_loss: 2.3354 - val_root_mean_squared_error: 1.5282\n",
      "Epoch 16/20\n",
      "363/363 [==============================] - 1s 3ms/step - loss: 0.3258 - root_mean_squared_error: 0.5708 - val_loss: 3.3243 - val_root_mean_squared_error: 1.8233\n",
      "Epoch 17/20\n",
      "363/363 [==============================] - 1s 3ms/step - loss: 0.3308 - root_mean_squared_error: 0.5752 - val_loss: 2.7125 - val_root_mean_squared_error: 1.6470\n",
      "Epoch 18/20\n",
      "363/363 [==============================] - 1s 3ms/step - loss: 0.3212 - root_mean_squared_error: 0.5667 - val_loss: 0.9367 - val_root_mean_squared_error: 0.9678\n",
      "Epoch 19/20\n",
      "363/363 [==============================] - 1s 3ms/step - loss: 0.3048 - root_mean_squared_error: 0.5521 - val_loss: 0.6619 - val_root_mean_squared_error: 0.8136\n",
      "Epoch 20/20\n",
      "363/363 [==============================] - 1s 4ms/step - loss: 0.3123 - root_mean_squared_error: 0.5588 - val_loss: 0.3347 - val_root_mean_squared_error: 0.5786\n"
     ]
    }
   ],
   "source": [
    "# Model compilation (+ previous steps)\n",
    "learning_rate = 1e-3\n",
    "optimizer = tf.keras.optimizers.Adam(learning_rate=learning_rate)\n",
    "\n",
    "# Compile the model\n",
    "model.compile(loss='mse', optimizer=optimizer, metrics=[\"RootMeanSquaredError\"])\n",
    "\n",
    "# 'Fit' normalization layer BEFORE model training\n",
    "normalization_layer.adapt(X_train)\n",
    "\n",
    "history = model.fit(\n",
    "    X_train, y_train, \n",
    "    validation_data=(X_valid, y_valid), \n",
    "    epochs=20, batch_size=32)"
   ]
  },
  {
   "cell_type": "code",
   "execution_count": 33,
   "id": "a3734ecc",
   "metadata": {},
   "outputs": [
    {
     "name": "stdout",
     "output_type": "stream",
     "text": [
      "162/162 [==============================] - 1s 3ms/step - loss: 0.3068 - root_mean_squared_error: 0.5539\n"
     ]
    },
    {
     "data": {
      "text/plain": [
       "[0.30675333738327026, 0.5538531541824341]"
      ]
     },
     "execution_count": 33,
     "metadata": {},
     "output_type": "execute_result"
    }
   ],
   "source": [
    "model.evaluate(X_test, y_test)"
   ]
  },
  {
   "cell_type": "markdown",
   "id": "a91e6b94",
   "metadata": {},
   "source": [
    "### Multiple inputs"
   ]
  },
  {
   "cell_type": "markdown",
   "id": "d6311663",
   "metadata": {},
   "source": [
    "Using multiple inputs we can choose different 'paths' for different features. Using the Deep and Wide model. \n",
    "For example: \n",
    "- 'Wide' input: Features 0 to 4 \n",
    "- 'Deep' input: Features 2 to 7"
   ]
  },
  {
   "cell_type": "code",
   "execution_count": 35,
   "id": "38313f06",
   "metadata": {},
   "outputs": [],
   "source": [
    "# Reset\n",
    "tf.keras.backend.clear_session()\n",
    "tf.random.set_seed(42)"
   ]
  },
  {
   "cell_type": "code",
   "execution_count": 42,
   "id": "db655134",
   "metadata": {},
   "outputs": [],
   "source": [
    "# Define the layers\n",
    "\n",
    "# Input layer\n",
    "input_wide = tf.keras.Input(shape=[5], name='wide_input') # 0 to 4 (inc) = 5\n",
    "input_deep = tf.keras.Input(shape=[6], name='deep_input') # 2 to 7 (inc) = 6\n",
    "\n",
    "# Normalization layers\n",
    "norm_layer_wide = tf.keras.layers.Normalization()\n",
    "normalization_wide = norm_layer_wide(input_wide)\n",
    "\n",
    "norm_layer_deep = tf.keras.layers.Normalization()\n",
    "normalization_deep = norm_layer_deep(input_deep)\n",
    "\n",
    "# Hidden layers\n",
    "hidden_1 = tf.keras.layers.Dense(30, activation=\"relu\")(normalization_deep)\n",
    "hidden_2 = tf.keras.layers.Dense(30, activation=\"relu\")(hidden_1)\n",
    "\n",
    "# Concatenate \n",
    "concat = tf.keras.layers.concatenate([normalization_wide, hidden_2])\n",
    "\n",
    "# Output layer\n",
    "output = tf.keras.layers.Dense(1)(concat)\n",
    "\n",
    "\n",
    "# Model\n",
    "model = tf.keras.Model(inputs=[input_wide, input_deep], outputs=[output])"
   ]
  },
  {
   "cell_type": "code",
   "execution_count": 44,
   "id": "b20fc9a3",
   "metadata": {},
   "outputs": [
    {
     "name": "stdout",
     "output_type": "stream",
     "text": [
      "Epoch 1/20\n",
      "363/363 [==============================] - 4s 6ms/step - loss: 1.2177 - root_mean_squared_error: 1.1035 - val_loss: 1.1134 - val_root_mean_squared_error: 1.0552\n",
      "Epoch 2/20\n",
      "363/363 [==============================] - 2s 5ms/step - loss: 0.5497 - root_mean_squared_error: 0.7414 - val_loss: 0.6982 - val_root_mean_squared_error: 0.8356\n",
      "Epoch 3/20\n",
      "363/363 [==============================] - 2s 5ms/step - loss: 0.4567 - root_mean_squared_error: 0.6758 - val_loss: 0.4267 - val_root_mean_squared_error: 0.6532\n",
      "Epoch 4/20\n",
      "363/363 [==============================] - 2s 5ms/step - loss: 0.4152 - root_mean_squared_error: 0.6444 - val_loss: 0.4244 - val_root_mean_squared_error: 0.6514\n",
      "Epoch 5/20\n",
      "363/363 [==============================] - 2s 4ms/step - loss: 0.3922 - root_mean_squared_error: 0.6262 - val_loss: 0.3774 - val_root_mean_squared_error: 0.6144\n",
      "Epoch 6/20\n",
      "363/363 [==============================] - 2s 6ms/step - loss: 0.3765 - root_mean_squared_error: 0.6136 - val_loss: 0.4909 - val_root_mean_squared_error: 0.7007\n",
      "Epoch 7/20\n",
      "363/363 [==============================] - 2s 6ms/step - loss: 0.3743 - root_mean_squared_error: 0.6118 - val_loss: 0.6153 - val_root_mean_squared_error: 0.7844\n",
      "Epoch 8/20\n",
      "363/363 [==============================] - 2s 6ms/step - loss: 0.3616 - root_mean_squared_error: 0.6014 - val_loss: 1.4385 - val_root_mean_squared_error: 1.1994\n",
      "Epoch 9/20\n",
      "363/363 [==============================] - 2s 6ms/step - loss: 0.3609 - root_mean_squared_error: 0.6007 - val_loss: 1.8763 - val_root_mean_squared_error: 1.3698\n",
      "Epoch 10/20\n",
      "363/363 [==============================] - 2s 5ms/step - loss: 0.3719 - root_mean_squared_error: 0.6099 - val_loss: 2.4959 - val_root_mean_squared_error: 1.5798\n",
      "Epoch 11/20\n",
      "363/363 [==============================] - 1s 4ms/step - loss: 0.3607 - root_mean_squared_error: 0.6005 - val_loss: 0.4927 - val_root_mean_squared_error: 0.7019\n",
      "Epoch 12/20\n",
      "363/363 [==============================] - 1s 4ms/step - loss: 0.3685 - root_mean_squared_error: 0.6070 - val_loss: 1.0302 - val_root_mean_squared_error: 1.0150\n",
      "Epoch 13/20\n",
      "363/363 [==============================] - 2s 4ms/step - loss: 0.3497 - root_mean_squared_error: 0.5914 - val_loss: 0.4234 - val_root_mean_squared_error: 0.6507\n",
      "Epoch 14/20\n",
      "363/363 [==============================] - 1s 4ms/step - loss: 0.3472 - root_mean_squared_error: 0.5893 - val_loss: 0.4599 - val_root_mean_squared_error: 0.6781\n",
      "Epoch 15/20\n",
      "363/363 [==============================] - 1s 4ms/step - loss: 0.3418 - root_mean_squared_error: 0.5847 - val_loss: 0.3570 - val_root_mean_squared_error: 0.5975\n",
      "Epoch 16/20\n",
      "363/363 [==============================] - 1s 4ms/step - loss: 0.3407 - root_mean_squared_error: 0.5837 - val_loss: 0.4248 - val_root_mean_squared_error: 0.6518\n",
      "Epoch 17/20\n",
      "363/363 [==============================] - 1s 4ms/step - loss: 0.3371 - root_mean_squared_error: 0.5806 - val_loss: 0.3470 - val_root_mean_squared_error: 0.5891\n",
      "Epoch 18/20\n",
      "363/363 [==============================] - 1s 4ms/step - loss: 0.3330 - root_mean_squared_error: 0.5771 - val_loss: 0.8487 - val_root_mean_squared_error: 0.9212\n",
      "Epoch 19/20\n",
      "363/363 [==============================] - 2s 5ms/step - loss: 0.3330 - root_mean_squared_error: 0.5770 - val_loss: 1.0560 - val_root_mean_squared_error: 1.0276\n",
      "Epoch 20/20\n",
      "363/363 [==============================] - 2s 5ms/step - loss: 0.3503 - root_mean_squared_error: 0.5919 - val_loss: 1.6222 - val_root_mean_squared_error: 1.2736\n",
      "162/162 [==============================] - 0s 3ms/step - loss: 0.3385 - root_mean_squared_error: 0.5818\n",
      "1/1 [==============================] - 0s 110ms/step\n",
      "Predicted: [[0.4824288]\n",
      " [1.3928686]\n",
      " [3.5917473]]\n",
      "Actual: [0.477   0.458   5.00001]\n"
     ]
    }
   ],
   "source": [
    "# Optimizer\n",
    "eta = 1e-3\n",
    "optimizer = tf.keras.optimizers.Adam(learning_rate=eta)\n",
    "\n",
    "# Compile\n",
    "model.compile(loss='mse', optimizer=optimizer, metrics=['RootMeanSquaredError'])\n",
    "\n",
    "# We have two inputs so we need to manipulate the data accordingly\n",
    "# Wide input --> features 0 to 4\n",
    "# Deep input --> features 2 to 7 (end)\n",
    "X_train_wide, X_train_deep = X_train[:, :5], X_train[:, 2:]\n",
    "X_valid_wide, X_valid_deep = X_valid[:, :5], X_valid[:, 2:]\n",
    "X_test_wide, X_test_deep = X_test[:, :5], X_test[:, 2:]\n",
    "\n",
    "# As an example, let's choose the first sample from the test set\n",
    "example_wide = X_test_wide[:3]\n",
    "example_deep = X_test_deep[:3]\n",
    "\n",
    "# Adapt the normalization layer BEFORE fitting the model\n",
    "norm_layer_wide.adapt(X_train_wide)\n",
    "norm_layer_deep.adapt(X_train_deep)\n",
    "\n",
    "# Fit the model\n",
    "history = model.fit(\n",
    "    [X_train_wide, X_train_deep], y_train,\n",
    "    validation_data=([X_valid_wide, X_valid_deep], y_valid),\n",
    "    epochs=20\n",
    ")\n",
    "\n",
    "mse_test = model.evaluate((X_test_wide, X_test_deep), y_test)\n",
    "y_pred = model.predict((example_wide, example_deep))\n",
    "\n",
    "print(f\"Predicted: {y_pred}\")\n",
    "print(f\"Actual: {y_test[:3]}\")"
   ]
  },
  {
   "cell_type": "markdown",
   "id": "f67f12f5",
   "metadata": {},
   "source": [
    "### Multiple Outputs as a Regularization Techniqiue"
   ]
  },
  {
   "cell_type": "code",
   "execution_count": 45,
   "id": "1615727a",
   "metadata": {},
   "outputs": [],
   "source": [
    "# 'Forcing' the model to output something out of the 'Deep' path to not only rely on the whole NN"
   ]
  },
  {
   "cell_type": "code",
   "execution_count": 80,
   "id": "0fb68eb0",
   "metadata": {},
   "outputs": [],
   "source": [
    "# Reset\n",
    "tf.keras.backend.clear_session()\n",
    "tf.random.set_seed(42)"
   ]
  },
  {
   "cell_type": "code",
   "execution_count": 81,
   "id": "66b9912d",
   "metadata": {},
   "outputs": [],
   "source": [
    "X_train_wide, X_train_deep = X_train[:, :5], X_train[:, 2:]\n",
    "X_valid_wide, X_valid_deep = X_valid[:, :5], X_valid[:, 2:]\n",
    "X_test_wide, X_test_deep = X_test[:, :5], X_test[:, 2:]"
   ]
  },
  {
   "cell_type": "code",
   "execution_count": 84,
   "id": "75fec771",
   "metadata": {},
   "outputs": [],
   "source": [
    "# Inputs\n",
    "input_wide = tf.keras.layers.Input(shape=(5,))  # features 0 to 4\n",
    "input_deep = tf.keras.layers.Input(shape=(6,))  # features 2 to 7\n",
    "\n",
    "# Normalization layers\n",
    "norm_layer_wide = tf.keras.layers.Normalization()\n",
    "norm_layer_deep = tf.keras.layers.Normalization()\n",
    "norm_wide = norm_layer_wide(input_wide)\n",
    "norm_deep = norm_layer_deep(input_deep)\n",
    "\n",
    "# Hidden layers\n",
    "hidden1 = tf.keras.layers.Dense(30, activation=\"relu\")(norm_deep)\n",
    "hidden2 = tf.keras.layers.Dense(30, activation=\"relu\")(hidden1)\n",
    "\n",
    "# Concatenation layer\n",
    "concat = tf.keras.layers.concatenate([norm_wide, hidden2])\n",
    "\n",
    "# Output layers\n",
    "output = tf.keras.layers.Dense(1)(concat)\n",
    "aux_output = tf.keras.layers.Dense(1)(hidden2) # Auxiliary output for regularization purposes\n",
    "\n",
    "# Model\n",
    "model = tf.keras.Model(\n",
    "    inputs=[input_wide, input_deep], \n",
    "    outputs=[output, aux_output]\n",
    ")"
   ]
  },
  {
   "cell_type": "code",
   "execution_count": 85,
   "id": "70ed8961",
   "metadata": {},
   "outputs": [],
   "source": [
    "# Optimizer \n",
    "eta = 1e-3\n",
    "optimizer = tf.keras.optimizers.Adam(learning_rate=eta)\n",
    "\n",
    "loss_funcs = ('mse', 'mse')  # Loss functions for the main and auxiliary outputs\n",
    "\n",
    "# Weigths for the loss function\n",
    "# The model outputs the sum of the loss functions, we can weigths them to regularize more or less\n",
    "loss_weights = (0.9, 0.1) \n",
    "\n",
    "# Additional metrics (one for each output)\n",
    "metrics = [\"RootMeanSquaredError\"]\n",
    "\n",
    "# Compile the model\n",
    "model.compile(\n",
    "    optimizer=optimizer,\n",
    "    loss=loss_funcs,\n",
    "    loss_weights=loss_weights,\n",
    "    metrics=metrics\n",
    "    )"
   ]
  },
  {
   "cell_type": "code",
   "execution_count": 88,
   "id": "2a10fb2c",
   "metadata": {},
   "outputs": [
    {
     "name": "stdout",
     "output_type": "stream",
     "text": [
      "Epoch 1/20\n",
      "363/363 [==============================] - 3s 7ms/step - loss: 0.5182 - dense_6_loss: 0.4885 - dense_7_loss: 0.7860 - dense_6_root_mean_squared_error: 0.6989 - dense_7_root_mean_squared_error: 0.8865 - val_loss: 0.5234 - val_dense_6_loss: 0.4379 - val_dense_7_loss: 1.2933 - val_dense_6_root_mean_squared_error: 0.6617 - val_dense_7_root_mean_squared_error: 1.1372\n",
      "Epoch 2/20\n",
      "363/363 [==============================] - 2s 4ms/step - loss: 0.4434 - dense_6_loss: 0.4232 - dense_7_loss: 0.6257 - dense_6_root_mean_squared_error: 0.6505 - dense_7_root_mean_squared_error: 0.7910 - val_loss: 0.5698 - val_dense_6_loss: 0.5552 - val_dense_7_loss: 0.7014 - val_dense_6_root_mean_squared_error: 0.7451 - val_dense_7_root_mean_squared_error: 0.8375\n",
      "Epoch 3/20\n",
      "363/363 [==============================] - 1s 4ms/step - loss: 0.4218 - dense_6_loss: 0.4058 - dense_7_loss: 0.5652 - dense_6_root_mean_squared_error: 0.6371 - dense_7_root_mean_squared_error: 0.7518 - val_loss: 0.4196 - val_dense_6_loss: 0.4061 - val_dense_7_loss: 0.5417 - val_dense_6_root_mean_squared_error: 0.6372 - val_dense_7_root_mean_squared_error: 0.7360\n",
      "Epoch 4/20\n",
      "363/363 [==============================] - 2s 5ms/step - loss: 0.4055 - dense_6_loss: 0.3907 - dense_7_loss: 0.5381 - dense_6_root_mean_squared_error: 0.6251 - dense_7_root_mean_squared_error: 0.7336 - val_loss: 0.4155 - val_dense_6_loss: 0.4055 - val_dense_7_loss: 0.5055 - val_dense_6_root_mean_squared_error: 0.6368 - val_dense_7_root_mean_squared_error: 0.7110\n",
      "Epoch 5/20\n",
      "363/363 [==============================] - 2s 4ms/step - loss: 0.3974 - dense_6_loss: 0.3843 - dense_7_loss: 0.5156 - dense_6_root_mean_squared_error: 0.6199 - dense_7_root_mean_squared_error: 0.7181 - val_loss: 0.5091 - val_dense_6_loss: 0.5095 - val_dense_7_loss: 0.5059 - val_dense_6_root_mean_squared_error: 0.7138 - val_dense_7_root_mean_squared_error: 0.7113\n",
      "Epoch 6/20\n",
      "363/363 [==============================] - 2s 4ms/step - loss: 0.3869 - dense_6_loss: 0.3746 - dense_7_loss: 0.4978 - dense_6_root_mean_squared_error: 0.6120 - dense_7_root_mean_squared_error: 0.7055 - val_loss: 0.6348 - val_dense_6_loss: 0.6090 - val_dense_7_loss: 0.8669 - val_dense_6_root_mean_squared_error: 0.7804 - val_dense_7_root_mean_squared_error: 0.9311\n",
      "Epoch 7/20\n",
      "363/363 [==============================] - 2s 5ms/step - loss: 0.3875 - dense_6_loss: 0.3765 - dense_7_loss: 0.4863 - dense_6_root_mean_squared_error: 0.6136 - dense_7_root_mean_squared_error: 0.6974 - val_loss: 1.4091 - val_dense_6_loss: 1.5063 - val_dense_7_loss: 0.5340 - val_dense_6_root_mean_squared_error: 1.2273 - val_dense_7_root_mean_squared_error: 0.7308\n",
      "Epoch 8/20\n",
      "363/363 [==============================] - 2s 4ms/step - loss: 0.3752 - dense_6_loss: 0.3649 - dense_7_loss: 0.4676 - dense_6_root_mean_squared_error: 0.6041 - dense_7_root_mean_squared_error: 0.6838 - val_loss: 1.8522 - val_dense_6_loss: 1.9311 - val_dense_7_loss: 1.1417 - val_dense_6_root_mean_squared_error: 1.3896 - val_dense_7_root_mean_squared_error: 1.0685\n",
      "Epoch 9/20\n",
      "363/363 [==============================] - 2s 5ms/step - loss: 0.3747 - dense_6_loss: 0.3652 - dense_7_loss: 0.4604 - dense_6_root_mean_squared_error: 0.6043 - dense_7_root_mean_squared_error: 0.6785 - val_loss: 4.8083 - val_dense_6_loss: 5.0244 - val_dense_7_loss: 2.8633 - val_dense_6_root_mean_squared_error: 2.2415 - val_dense_7_root_mean_squared_error: 1.6921\n",
      "Epoch 10/20\n",
      "363/363 [==============================] - 2s 4ms/step - loss: 0.4013 - dense_6_loss: 0.3938 - dense_7_loss: 0.4689 - dense_6_root_mean_squared_error: 0.6276 - dense_7_root_mean_squared_error: 0.6848 - val_loss: 2.6735 - val_dense_6_loss: 2.8352 - val_dense_7_loss: 1.2180 - val_dense_6_root_mean_squared_error: 1.6838 - val_dense_7_root_mean_squared_error: 1.1036\n",
      "Epoch 11/20\n",
      "363/363 [==============================] - 2s 5ms/step - loss: 0.3703 - dense_6_loss: 0.3622 - dense_7_loss: 0.4429 - dense_6_root_mean_squared_error: 0.6019 - dense_7_root_mean_squared_error: 0.6655 - val_loss: 2.5383 - val_dense_6_loss: 2.4015 - val_dense_7_loss: 3.7696 - val_dense_6_root_mean_squared_error: 1.5497 - val_dense_7_root_mean_squared_error: 1.9415\n",
      "Epoch 12/20\n",
      "363/363 [==============================] - 2s 6ms/step - loss: 0.4133 - dense_6_loss: 0.4028 - dense_7_loss: 0.5074 - dense_6_root_mean_squared_error: 0.6347 - dense_7_root_mean_squared_error: 0.7124 - val_loss: 3.1366 - val_dense_6_loss: 3.2283 - val_dense_7_loss: 2.3116 - val_dense_6_root_mean_squared_error: 1.7967 - val_dense_7_root_mean_squared_error: 1.5204\n",
      "Epoch 13/20\n",
      "363/363 [==============================] - 2s 6ms/step - loss: 0.3806 - dense_6_loss: 0.3739 - dense_7_loss: 0.4409 - dense_6_root_mean_squared_error: 0.6115 - dense_7_root_mean_squared_error: 0.6640 - val_loss: 1.5906 - val_dense_6_loss: 1.5798 - val_dense_7_loss: 1.6876 - val_dense_6_root_mean_squared_error: 1.2569 - val_dense_7_root_mean_squared_error: 1.2991\n",
      "Epoch 14/20\n",
      "363/363 [==============================] - 3s 8ms/step - loss: 0.3569 - dense_6_loss: 0.3487 - dense_7_loss: 0.4308 - dense_6_root_mean_squared_error: 0.5905 - dense_7_root_mean_squared_error: 0.6564 - val_loss: 0.7448 - val_dense_6_loss: 0.7536 - val_dense_7_loss: 0.6665 - val_dense_6_root_mean_squared_error: 0.8681 - val_dense_7_root_mean_squared_error: 0.8164\n",
      "Epoch 15/20\n",
      "363/363 [==============================] - 2s 7ms/step - loss: 0.3494 - dense_6_loss: 0.3425 - dense_7_loss: 0.4119 - dense_6_root_mean_squared_error: 0.5852 - dense_7_root_mean_squared_error: 0.6418 - val_loss: 0.8223 - val_dense_6_loss: 0.8318 - val_dense_7_loss: 0.7367 - val_dense_6_root_mean_squared_error: 0.9120 - val_dense_7_root_mean_squared_error: 0.8583\n",
      "Epoch 16/20\n",
      "363/363 [==============================] - 2s 6ms/step - loss: 0.3429 - dense_6_loss: 0.3357 - dense_7_loss: 0.4077 - dense_6_root_mean_squared_error: 0.5794 - dense_7_root_mean_squared_error: 0.6385 - val_loss: 0.4009 - val_dense_6_loss: 0.3888 - val_dense_7_loss: 0.5099 - val_dense_6_root_mean_squared_error: 0.6236 - val_dense_7_root_mean_squared_error: 0.7141\n",
      "Epoch 17/20\n",
      "363/363 [==============================] - 2s 5ms/step - loss: 0.3411 - dense_6_loss: 0.3342 - dense_7_loss: 0.4034 - dense_6_root_mean_squared_error: 0.5781 - dense_7_root_mean_squared_error: 0.6352 - val_loss: 0.5187 - val_dense_6_loss: 0.5274 - val_dense_7_loss: 0.4407 - val_dense_6_root_mean_squared_error: 0.7262 - val_dense_7_root_mean_squared_error: 0.6638\n",
      "Epoch 18/20\n",
      "363/363 [==============================] - 2s 4ms/step - loss: 0.3383 - dense_6_loss: 0.3317 - dense_7_loss: 0.3978 - dense_6_root_mean_squared_error: 0.5759 - dense_7_root_mean_squared_error: 0.6307 - val_loss: 1.0437 - val_dense_6_loss: 1.0113 - val_dense_7_loss: 1.3347 - val_dense_6_root_mean_squared_error: 1.0057 - val_dense_7_root_mean_squared_error: 1.1553\n",
      "Epoch 19/20\n",
      "363/363 [==============================] - 2s 5ms/step - loss: 0.3497 - dense_6_loss: 0.3435 - dense_7_loss: 0.4056 - dense_6_root_mean_squared_error: 0.5861 - dense_7_root_mean_squared_error: 0.6369 - val_loss: 2.7379 - val_dense_6_loss: 2.8483 - val_dense_7_loss: 1.7442 - val_dense_6_root_mean_squared_error: 1.6877 - val_dense_7_root_mean_squared_error: 1.3207\n",
      "Epoch 20/20\n",
      "363/363 [==============================] - 2s 6ms/step - loss: 0.3595 - dense_6_loss: 0.3544 - dense_7_loss: 0.4053 - dense_6_root_mean_squared_error: 0.5953 - dense_7_root_mean_squared_error: 0.6366 - val_loss: 2.4313 - val_dense_6_loss: 2.4192 - val_dense_7_loss: 2.5403 - val_dense_6_root_mean_squared_error: 1.5554 - val_dense_7_root_mean_squared_error: 1.5938\n"
     ]
    }
   ],
   "source": [
    "# Adapt normalization layers BEFORE fitting the model\n",
    "norm_layer_wide.adapt(X_train_wide)\n",
    "norm_layer_deep.adapt(X_train_deep)\n",
    "\n",
    "# We need a target for each output, in this case, it's the same one, we simply pass it twice inside a tuple\n",
    "history = model.fit(\n",
    "    (X_train_wide, X_train_deep), \n",
    "    (y_train, y_train),\n",
    "    epochs=20,\n",
    "    validation_data=((X_valid_wide, X_valid_deep), (y_valid, y_valid))\n",
    ")"
   ]
  },
  {
   "cell_type": "code",
   "execution_count": 89,
   "id": "ae3da1e9",
   "metadata": {},
   "outputs": [
    {
     "name": "stdout",
     "output_type": "stream",
     "text": [
      "X_train_wide: (11610, 5)\n",
      "X_train_deep: (11610, 6)\n",
      "y_train: (11610,)\n",
      "X_valid_wide: (3870, 5)\n",
      "X_valid_deep: (3870, 6)\n",
      "y_val: (5000,)\n"
     ]
    }
   ],
   "source": [
    "# Aux cell because I was getting an error:\n",
    "# ValueError: Data cardinality is ambiguous:\n",
    "#       x sizes: 3870, 3870\n",
    "#       y sizes: 5000, 5000\n",
    "\n",
    "print(\"X_train_wide:\", X_train_wide.shape)\n",
    "print(\"X_train_deep:\", X_train_deep.shape)\n",
    "print(\"y_train:\", y_train.shape)\n",
    "print(\"X_valid_wide:\", X_valid_wide.shape)\n",
    "print(\"X_valid_deep:\", X_valid_deep.shape)\n",
    "print(\"y_val:\", y_val.shape)\n",
    "\n",
    "# I was using y_val instead of y_valid\n",
    "# I need to be more consistent in naming conventions on long notebooks"
   ]
  },
  {
   "cell_type": "code",
   "execution_count": null,
   "id": "7dbeccd8",
   "metadata": {},
   "outputs": [
    {
     "name": "stdout",
     "output_type": "stream",
     "text": [
      "162/162 [==============================] - 1s 5ms/step - loss: 0.3449 - dense_6_loss: 0.3389 - dense_7_loss: 0.3988 - dense_6_root_mean_squared_error: 0.5821 - dense_7_root_mean_squared_error: 0.6315\n"
     ]
    },
    {
     "data": {
      "text/plain": [
       "[0.34486764669418335,\n",
       " 0.3388745188713074,\n",
       " 0.39880630373954773,\n",
       " 0.5821292996406555,\n",
       " 0.6315111517906189]"
      ]
     },
     "execution_count": 90,
     "metadata": {},
     "output_type": "execute_result"
    }
   ],
   "source": [
    "# Evaluate the model\n",
    "eval_results = model.evaluate(\n",
    "    (X_test_wide, X_test_deep), \n",
    "    (y_test, y_test)\n",
    ")\n",
    "\n",
    "eval_results\n",
    "# Total (weighted) loss, loss wide, loss deep, rmse wide, rmse deep"
   ]
  },
  {
   "cell_type": "code",
   "execution_count": 91,
   "id": "be132ca3",
   "metadata": {},
   "outputs": [
    {
     "name": "stdout",
     "output_type": "stream",
     "text": [
      "1/1 [==============================] - 0s 239ms/step\n"
     ]
    },
    {
     "data": {
      "text/plain": [
       "{'dense_6': array([[0.25465155],\n",
       "        [1.4372262 ],\n",
       "        [3.4972055 ]], dtype=float32),\n",
       " 'dense_7': array([[0.26465392],\n",
       "        [1.493619  ],\n",
       "        [3.3944683 ]], dtype=float32)}"
      ]
     },
     "execution_count": 91,
     "metadata": {},
     "output_type": "execute_result"
    }
   ],
   "source": [
    "y_pred_tuple = model.predict((example_wide, example_deep))\n",
    "y_pred = dict(zip(model.output_names, y_pred_tuple))\n",
    "y_pred"
   ]
  },
  {
   "cell_type": "markdown",
   "id": "9dab3127",
   "metadata": {},
   "source": [
    "## Using the Subclassing API to Build Dynamic Models"
   ]
  }
 ],
 "metadata": {
  "kernelspec": {
   "display_name": "Python 3",
   "language": "python",
   "name": "python3"
  },
  "language_info": {
   "codemirror_mode": {
    "name": "ipython",
    "version": 3
   },
   "file_extension": ".py",
   "mimetype": "text/x-python",
   "name": "python",
   "nbconvert_exporter": "python",
   "pygments_lexer": "ipython3",
   "version": "3.10.18"
  }
 },
 "nbformat": 4,
 "nbformat_minor": 5
}
